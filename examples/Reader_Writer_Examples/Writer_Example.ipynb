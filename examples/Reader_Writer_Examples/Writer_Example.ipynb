{
 "cells": [
  {
   "cell_type": "code",
   "execution_count": 1,
   "id": "weighted-writer",
   "metadata": {},
   "outputs": [],
   "source": [
    "import os\n",
    "import sys\n",
    "p = os.path.abspath('../..')\n",
    "if p not in sys.path:\n",
    "    sys.path.append(p)\n",
    "\n",
    "from waveorder.io.writer import WaveorderWriter\n",
    "import numpy as np\n",
    "import zarr"
   ]
  },
  {
   "cell_type": "markdown",
   "id": "studied-division",
   "metadata": {},
   "source": [
    "### Initialize the writer\n",
    "\n",
    "This will instantiate the writer class, no zarr stores, subfolders, etc have been created yet.  This step allows you to define which type of writer you want and let it know your directory to save the data"
   ]
  },
  {
   "cell_type": "code",
   "execution_count": 2,
   "id": "adopted-trigger",
   "metadata": {},
   "outputs": [],
   "source": [
    "writer = WaveorderWriter('/Users/cameron.foltz/Desktop/zarr_test', 'physical')\n",
    "writer_stokes = WaveorderWriter('/Users/cameron.foltz/Desktop/zarr_test', 'stokes')"
   ]
  },
  {
   "cell_type": "markdown",
   "id": "graphic-rochester",
   "metadata": {},
   "source": [
    "### Set Position and Create Zarr\n",
    "\n",
    "'set_position()' will create a subfolder in your save directory with the corresponding position number.  The current directory of the writer is now this subfolder.\n",
    "\n",
    "'create_zarr()' will create an empty zarr store within the position subfolder.  No arrays have been added here.  Name of the store can be input by the user.  If no name is provided, store will be named 'physical_data.zarr' or 'stokes_data.zarr'\n",
    "\n",
    "The current writer.store will now be this newly created zarr store"
   ]
  },
  {
   "cell_type": "code",
   "execution_count": 5,
   "id": "disturbed-value",
   "metadata": {},
   "outputs": [],
   "source": [
    "writer.set_position(0)\n",
    "writer.create_zarr(name=None)\n",
    "\n",
    "writer.set_position(1)\n",
    "writer.create_zarr(name=None)\n",
    "\n",
    "writer_stokes.set_position(0)\n",
    "writer_stokes.create_zarr(name=None)"
   ]
  },
  {
   "cell_type": "markdown",
   "id": "animated-percentage",
   "metadata": {},
   "source": [
    "### Change to an existing zarr store\n",
    "\n",
    "Useful function for when you are writing to different stores at different times.  i.e. 'position first' writing (example later)"
   ]
  },
  {
   "cell_type": "code",
   "execution_count": 21,
   "id": "chubby-ratio",
   "metadata": {},
   "outputs": [
    {
     "name": "stdout",
     "output_type": "stream",
     "text": [
      "Current store is at: /Users/cameron.foltz/Desktop/zarr_test/Pos_001/physical_data.zarr\n",
      "Opening existing store at /Users/cameron.foltz/Desktop/zarr_test/Pos_000/physical_data.zarr\n"
     ]
    }
   ],
   "source": [
    "print(f'Current store is at: {writer.position_dir}/physical_data.zarr')\n",
    "\n",
    "writer.set_position(0)\n",
    "writer.set_zarr(os.path.join(writer.position_dir,'physical_data.zarr'))"
   ]
  },
  {
   "cell_type": "markdown",
   "id": "facial-chick",
   "metadata": {},
   "source": [
    "### Create some fake data to save later"
   ]
  },
  {
   "cell_type": "code",
   "execution_count": 25,
   "id": "viral-roller",
   "metadata": {},
   "outputs": [],
   "source": [
    "P = 10\n",
    "T = 3\n",
    "C = 2\n",
    "Z = 65\n",
    "Y = 256\n",
    "X = 256\n",
    "\n",
    "data = np.random.rand(P, T, C, Z, Y, X)"
   ]
  },
  {
   "cell_type": "code",
   "execution_count": 26,
   "id": "faced-ground",
   "metadata": {},
   "outputs": [
    {
     "data": {
      "text/plain": [
       "(10, 3, 2, 65, 256, 256)"
      ]
     },
     "execution_count": 26,
     "metadata": {},
     "output_type": "execute_result"
    }
   ],
   "source": [
    "np.shape(data)"
   ]
  },
  {
   "cell_type": "markdown",
   "id": "legitimate-hampton",
   "metadata": {},
   "source": [
    "### initialize the array which sets the data saving parameters\n",
    "\n",
    "Here is where you will initialize the array in your current writer.store .  data_shape should match the (T, C, Z, Y, X) dimensions of your data.  Positions need to be separated by subfolder.\n",
    "\n",
    "chunk_size determines how zarr will chunk your data.  This means that when you later try to load the data, it will load one chunk at a time with this specified size.  To have the chunk be one z-slice, you would set chunk_size = (1,1,1,Y,X)"
   ]
  },
  {
   "cell_type": "code",
   "execution_count": 30,
   "id": "developmental-punishment",
   "metadata": {},
   "outputs": [],
   "source": [
    "writer.init_array(data_shape=(3,2,65,256,256), chunk_size=(1,1,1,256,256), dtype='float32')\n",
    "writer_stokes.init_array(data_shape=(3,4,65,256,256), chunk_size=(1,1,1,256,256), dtype='float32')"
   ]
  },
  {
   "cell_type": "markdown",
   "id": "norwegian-drinking",
   "metadata": {},
   "source": [
    "### set the channel zarr_attributes\n",
    "\n",
    "This will set the ome-zarr metadata for each of your channels.  Name list must match the channels you are saving. i.e. if your first channel (C=0) is Phase3D, start the list with 'Phase3D'.  There are pre-populated metadata settings for specific names (i.e. 'Retardance', 'Orientation', 'S0').  If name is not reconginzed, default settings are used."
   ]
  },
  {
   "cell_type": "code",
   "execution_count": 31,
   "id": "recovered-hometown",
   "metadata": {},
   "outputs": [],
   "source": [
    "writer.set_channel_attributes(['DAPI', 'Phase3D'])\n",
    "writer_stokes.set_channel_attributes(['S0', 'S1', 'S2', 'S3'])"
   ]
  },
  {
   "cell_type": "code",
   "execution_count": 32,
   "id": "standing-ocean",
   "metadata": {},
   "outputs": [
    {
     "data": {
      "text/plain": [
       "{'multiscales': [{'datasets': [{'path': 'array'}], 'version': '0.1'}],\n",
       " 'omero': {'channels': [{'active': True,\n",
       "    'coefficient': 1.0,\n",
       "    'color': '808080',\n",
       "    'family': 'linear',\n",
       "    'inverted': False,\n",
       "    'label': 'DAPI',\n",
       "    'window': {'end': 10000.0, 'max': 10000.0, 'min': 0.0, 'start': 0.0}},\n",
       "   {'active': True,\n",
       "    'coefficient': 1.0,\n",
       "    'color': '808080',\n",
       "    'family': 'linear',\n",
       "    'inverted': False,\n",
       "    'label': 'Phase3D',\n",
       "    'window': {'end': 0.2, 'max': 1.0, 'min': -1.0, 'start': -0.2}}],\n",
       "  'rdefs': {'defaultT': 0,\n",
       "   'model': 'color',\n",
       "   'projection': 'normal',\n",
       "   'defaultZ': 0},\n",
       "  'version': 0.1}}"
      ]
     },
     "execution_count": 32,
     "metadata": {},
     "output_type": "execute_result"
    }
   ],
   "source": [
    "# print zarr_attributes dictionary\n",
    "writer.store.attrs.asdict()"
   ]
  },
  {
   "cell_type": "code",
   "execution_count": 33,
   "id": "abroad-chicago",
   "metadata": {},
   "outputs": [
    {
     "data": {
      "text/plain": [
       "{'multiscales': [{'datasets': [{'path': 'array'}], 'version': '0.1'}],\n",
       " 'omero': {'channels': [{'active': True,\n",
       "    'coefficient': 1.0,\n",
       "    'color': '808080',\n",
       "    'family': 'linear',\n",
       "    'inverted': False,\n",
       "    'label': 'S0',\n",
       "    'window': {'end': 1.0, 'max': 10, 'min': 0.0, 'start': 0.0}},\n",
       "   {'active': True,\n",
       "    'coefficient': 1.0,\n",
       "    'color': '808080',\n",
       "    'family': 'linear',\n",
       "    'inverted': False,\n",
       "    'label': 'S1',\n",
       "    'window': {'end': 0.5, 'max': 1.0, 'min': -1.0, 'start': -0.5}},\n",
       "   {'active': True,\n",
       "    'coefficient': 1.0,\n",
       "    'color': '808080',\n",
       "    'family': 'linear',\n",
       "    'inverted': False,\n",
       "    'label': 'S2',\n",
       "    'window': {'end': 0.5, 'max': 1.0, 'min': -1.0, 'start': -0.5}},\n",
       "   {'active': True,\n",
       "    'coefficient': 1.0,\n",
       "    'color': '808080',\n",
       "    'family': 'linear',\n",
       "    'inverted': False,\n",
       "    'label': 'S3',\n",
       "    'window': {'end': 1.0, 'max': 1.0, 'min': -1.0, 'start': -1.0}}],\n",
       "  'rdefs': {'defaultT': 0,\n",
       "   'model': 'color',\n",
       "   'projection': 'normal',\n",
       "   'defaultZ': 0},\n",
       "  'version': 0.1}}"
      ]
     },
     "execution_count": 33,
     "metadata": {},
     "output_type": "execute_result"
    }
   ],
   "source": [
    "writer_stokes.store.attrs.asdict()"
   ]
  },
  {
   "cell_type": "markdown",
   "id": "clinical-graphic",
   "metadata": {},
   "source": [
    "### Write the data along specific dimensions"
   ]
  },
  {
   "cell_type": "code",
   "execution_count": 11,
   "id": "processed-plate",
   "metadata": {},
   "outputs": [],
   "source": [
    "writer.write(data, t=[0,3], c=[0,2], z=[0,65])"
   ]
  },
  {
   "cell_type": "markdown",
   "id": "pleasant-romantic",
   "metadata": {},
   "source": [
    "# Complex, 'Position First' Acquisition"
   ]
  },
  {
   "cell_type": "markdown",
   "id": "tender-router",
   "metadata": {},
   "source": [
    "Let's say you have a dataset with 10 position with each position containing a data of size (T, C, Z, Y, X) = (3, 2, 65, 256, 256) and you want to save the first time point of every position first, and then move on to the next timepoint.  This will show you how to properly loop through this example case."
   ]
  },
  {
   "cell_type": "code",
   "execution_count": 43,
   "id": "suspected-population",
   "metadata": {},
   "outputs": [
    {
     "name": "stdout",
     "output_type": "stream",
     "text": [
      "Writing Position 0 at Time 0\n",
      "Opening existing store at /Users/cameron.foltz/Desktop/zarr_test/Pos_000/physical_data.zarr\n",
      "Writing Position 1 at Time 0\n",
      "Opening existing store at /Users/cameron.foltz/Desktop/zarr_test/Pos_001/physical_data.zarr\n",
      "Writing Position 2 at Time 0\n",
      "Opening existing store at /Users/cameron.foltz/Desktop/zarr_test/Pos_002/physical_data.zarr\n",
      "Writing Position 3 at Time 0\n",
      "Opening existing store at /Users/cameron.foltz/Desktop/zarr_test/Pos_003/physical_data.zarr\n",
      "Writing Position 4 at Time 0\n",
      "Opening existing store at /Users/cameron.foltz/Desktop/zarr_test/Pos_004/physical_data.zarr\n",
      "Writing Position 5 at Time 0\n",
      "Opening existing store at /Users/cameron.foltz/Desktop/zarr_test/Pos_005/physical_data.zarr\n",
      "Writing Position 6 at Time 0\n",
      "Opening existing store at /Users/cameron.foltz/Desktop/zarr_test/Pos_006/physical_data.zarr\n",
      "Writing Position 7 at Time 0\n",
      "Opening existing store at /Users/cameron.foltz/Desktop/zarr_test/Pos_007/physical_data.zarr\n",
      "Writing Position 8 at Time 0\n",
      "Opening existing store at /Users/cameron.foltz/Desktop/zarr_test/Pos_008/physical_data.zarr\n",
      "Writing Position 9 at Time 0\n",
      "Opening existing store at /Users/cameron.foltz/Desktop/zarr_test/Pos_009/physical_data.zarr\n",
      "Writing Position 0 at Time 1\n",
      "Opening existing store at /Users/cameron.foltz/Desktop/zarr_test/Pos_000/physical_data.zarr\n",
      "Writing Position 1 at Time 1\n",
      "Opening existing store at /Users/cameron.foltz/Desktop/zarr_test/Pos_001/physical_data.zarr\n",
      "Writing Position 2 at Time 1\n",
      "Opening existing store at /Users/cameron.foltz/Desktop/zarr_test/Pos_002/physical_data.zarr\n",
      "Writing Position 3 at Time 1\n",
      "Opening existing store at /Users/cameron.foltz/Desktop/zarr_test/Pos_003/physical_data.zarr\n",
      "Writing Position 4 at Time 1\n",
      "Opening existing store at /Users/cameron.foltz/Desktop/zarr_test/Pos_004/physical_data.zarr\n",
      "Writing Position 5 at Time 1\n",
      "Opening existing store at /Users/cameron.foltz/Desktop/zarr_test/Pos_005/physical_data.zarr\n",
      "Writing Position 6 at Time 1\n",
      "Opening existing store at /Users/cameron.foltz/Desktop/zarr_test/Pos_006/physical_data.zarr\n",
      "Writing Position 7 at Time 1\n",
      "Opening existing store at /Users/cameron.foltz/Desktop/zarr_test/Pos_007/physical_data.zarr\n",
      "Writing Position 8 at Time 1\n",
      "Opening existing store at /Users/cameron.foltz/Desktop/zarr_test/Pos_008/physical_data.zarr\n",
      "Writing Position 9 at Time 1\n",
      "Opening existing store at /Users/cameron.foltz/Desktop/zarr_test/Pos_009/physical_data.zarr\n",
      "Writing Position 0 at Time 2\n",
      "Opening existing store at /Users/cameron.foltz/Desktop/zarr_test/Pos_000/physical_data.zarr\n",
      "Writing Position 1 at Time 2\n",
      "Opening existing store at /Users/cameron.foltz/Desktop/zarr_test/Pos_001/physical_data.zarr\n",
      "Writing Position 2 at Time 2\n",
      "Opening existing store at /Users/cameron.foltz/Desktop/zarr_test/Pos_002/physical_data.zarr\n",
      "Writing Position 3 at Time 2\n",
      "Opening existing store at /Users/cameron.foltz/Desktop/zarr_test/Pos_003/physical_data.zarr\n",
      "Writing Position 4 at Time 2\n",
      "Opening existing store at /Users/cameron.foltz/Desktop/zarr_test/Pos_004/physical_data.zarr\n",
      "Writing Position 5 at Time 2\n",
      "Opening existing store at /Users/cameron.foltz/Desktop/zarr_test/Pos_005/physical_data.zarr\n",
      "Writing Position 6 at Time 2\n",
      "Opening existing store at /Users/cameron.foltz/Desktop/zarr_test/Pos_006/physical_data.zarr\n",
      "Writing Position 7 at Time 2\n",
      "Opening existing store at /Users/cameron.foltz/Desktop/zarr_test/Pos_007/physical_data.zarr\n",
      "Writing Position 8 at Time 2\n",
      "Opening existing store at /Users/cameron.foltz/Desktop/zarr_test/Pos_008/physical_data.zarr\n",
      "Writing Position 9 at Time 2\n",
      "Opening existing store at /Users/cameron.foltz/Desktop/zarr_test/Pos_009/physical_data.zarr\n"
     ]
    }
   ],
   "source": [
    "# Must first initialize all of the arrays, since you will be returning to them \n",
    "# at different times in the data-saving process.\n",
    "num_pos = 10\n",
    "\n",
    "for i in range(num_pos):\n",
    "    writer.set_position(i)\n",
    "    writer.create_zarr()\n",
    "    writer.init_array(data_shape=(3,2,65,256,256), chunk_size=(1,1,1,256,256), dtype='float32')\n",
    "    writer.set_channel_attributes(['Retardance', 'Orientation'])\n",
    "    \n",
    "    \n",
    "# Now begin the rime loop \n",
    "for t in range(3):\n",
    "    \n",
    "    # At each time point, write data for all positions\n",
    "    for pos in range(num_pos):\n",
    "        \n",
    "        print(f'Writing Position {pos} at Time {t}')\n",
    "        \n",
    "        #change to the correct position folder\n",
    "        writer.set_position(pos)\n",
    "        \n",
    "        #change to the zarr store in this position folder\n",
    "        writer.set_zarr(os.path.join(writer.position_dir,'physical_data.zarr'))\n",
    "\n",
    "        #write this position data\n",
    "        writer.write(data[pos, t], t=t, c=[0,2], z=[0,65])"
   ]
  },
  {
   "cell_type": "code",
   "execution_count": null,
   "id": "welcome-evaluation",
   "metadata": {},
   "outputs": [],
   "source": []
  }
 ],
 "metadata": {
  "kernelspec": {
   "display_name": "Python 3",
   "language": "python",
   "name": "python3"
  },
  "language_info": {
   "codemirror_mode": {
    "name": "ipython",
    "version": 3
   },
   "file_extension": ".py",
   "mimetype": "text/x-python",
   "name": "python",
   "nbconvert_exporter": "python",
   "pygments_lexer": "ipython3",
   "version": "3.7.10"
  }
 },
 "nbformat": 4,
 "nbformat_minor": 5
}

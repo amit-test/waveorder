{
 "cells": [
  {
   "cell_type": "code",
   "execution_count": 1,
   "id": "weighted-writer",
   "metadata": {},
   "outputs": [],
   "source": [
    "import os\n",
    "import sys\n",
    "p = os.path.abspath('../..')\n",
    "if p not in sys.path:\n",
    "    sys.path.append(p)\n",
    "\n",
    "from waveorder.io.writer import WaveorderWriter\n",
    "import numpy as np\n",
    "import zarr"
   ]
  },
  {
   "cell_type": "code",
   "execution_count": 2,
   "id": "adopted-trigger",
   "metadata": {},
   "outputs": [],
   "source": [
    "writer = WaveorderWriter('/Users/cameron.foltz/Desktop/zarr_test', 'physical')"
   ]
  },
  {
   "cell_type": "code",
   "execution_count": 3,
   "id": "disturbed-value",
   "metadata": {},
   "outputs": [
    {
     "name": "stdout",
     "output_type": "stream",
     "text": [
      "Found existing store at /Users/cameron.foltz/Desktop/zarr_test/Pos_002/physical_data.zarr\n"
     ]
    }
   ],
   "source": [
    "writer.set_position(2)\n",
    "writer.create_zarr()"
   ]
  },
  {
   "cell_type": "code",
   "execution_count": 4,
   "id": "loaded-copying",
   "metadata": {},
   "outputs": [],
   "source": [
    "T = 1\n",
    "C = 2\n",
    "Z = 65\n",
    "Y = 2048\n",
    "X = 2048\n",
    "\n",
    "data = np.ones((T, C, Z, Y, X))"
   ]
  },
  {
   "cell_type": "code",
   "execution_count": 5,
   "id": "nasty-canal",
   "metadata": {},
   "outputs": [],
   "source": [
    "writer.init_array(data_shape=data.shape, chunk_size=(1,1,1,2048,2048), dtype='uint16')"
   ]
  },
  {
   "cell_type": "code",
   "execution_count": 4,
   "id": "consecutive-drawing",
   "metadata": {},
   "outputs": [],
   "source": [
    "writer.set_channel_attributes(['DAPI', 'Phase3D'])"
   ]
  },
  {
   "cell_type": "code",
   "execution_count": 5,
   "id": "promotional-dealing",
   "metadata": {},
   "outputs": [
    {
     "data": {
      "text/plain": [
       "{'multiscales': [{'datasets': [{'path': 'array'}], 'version': '0.1'}],\n",
       " 'omero': {'channels': [{'active': True,\n",
       "    'coefficient': 1.0,\n",
       "    'color': '808080',\n",
       "    'family': 'linear',\n",
       "    'inverted': False,\n",
       "    'label': 'DAPI',\n",
       "    'window': {'end': 1.0, 'max': 65535.0, 'min': 0.0, 'start': 0.0}},\n",
       "   {'active': True,\n",
       "    'coefficient': 1.0,\n",
       "    'color': '808080',\n",
       "    'family': 'linear',\n",
       "    'inverted': False,\n",
       "    'label': 'Phase3D',\n",
       "    'window': {'end': 1.0, 'max': 65535.0, 'min': 0.0, 'start': 0.0}}]}}"
      ]
     },
     "execution_count": 5,
     "metadata": {},
     "output_type": "execute_result"
    }
   ],
   "source": [
    "writer.store.attrs.asdict()"
   ]
  },
  {
   "cell_type": "code",
   "execution_count": 11,
   "id": "processed-plate",
   "metadata": {},
   "outputs": [],
   "source": [
    "writer.write(data[0, 0, 0:65, :, :], T=[0], C=[0], Z=[0,65])"
   ]
  },
  {
   "cell_type": "code",
   "execution_count": 16,
   "id": "republican-smoke",
   "metadata": {},
   "outputs": [
    {
     "data": {
      "text/plain": [
       "(2, 1, 65, 2048, 2048)"
      ]
     },
     "execution_count": 16,
     "metadata": {},
     "output_type": "execute_result"
    }
   ],
   "source": [
    "np.shape(data[0:2, 0:50, 0:65, :, :])"
   ]
  },
  {
   "cell_type": "code",
   "execution_count": null,
   "id": "swedish-thunder",
   "metadata": {},
   "outputs": [],
   "source": [
    "writer.add_store('func_test_2')"
   ]
  },
  {
   "cell_type": "code",
   "execution_count": null,
   "id": "recent-innocent",
   "metadata": {},
   "outputs": [],
   "source": [
    "writer.add_store('func_test_3.zarr')"
   ]
  },
  {
   "cell_type": "code",
   "execution_count": null,
   "id": "retained-variable",
   "metadata": {},
   "outputs": [],
   "source": [
    "writer.set_store('func_test_2')"
   ]
  },
  {
   "cell_type": "code",
   "execution_count": 18,
   "id": "supreme-cookbook",
   "metadata": {},
   "outputs": [
    {
     "name": "stdout",
     "output_type": "stream",
     "text": [
      "Name        : /\n",
      "Type        : zarr.hierarchy.Group\n",
      "Read-only   : False\n",
      "Store type  : zarr.storage.DirectoryStore\n",
      "No. members : 1\n",
      "No. arrays  : 1\n",
      "No. groups  : 0\n",
      "Arrays      : array\n",
      "\n"
     ]
    }
   ],
   "source": [
    "print(writer.store.info)"
   ]
  },
  {
   "cell_type": "code",
   "execution_count": 9,
   "id": "informational-shuttle",
   "metadata": {},
   "outputs": [],
   "source": [
    "example = zarr.open('/Users/cameron.foltz/6001240.zarr')"
   ]
  },
  {
   "cell_type": "code",
   "execution_count": 10,
   "id": "experimental-rendering",
   "metadata": {},
   "outputs": [
    {
     "data": {
      "text/plain": [
       "{'_creator': {'name': 'omero-zarr',\n",
       "  'version': '0.0.10.dev0+g98cf12c.d20201130'},\n",
       " 'multiscales': [{'datasets': [{'path': '0'}, {'path': '1'}, {'path': '2'}],\n",
       "   'version': '0.1'}],\n",
       " 'omero': {'channels': [{'active': True,\n",
       "    'coefficient': 1.0,\n",
       "    'color': '0000FF',\n",
       "    'family': 'linear',\n",
       "    'inverted': False,\n",
       "    'label': 'LaminB1',\n",
       "    'window': {'end': 1500.0, 'max': 65535.0, 'min': 0.0, 'start': 0.0}},\n",
       "   {'active': True,\n",
       "    'coefficient': 1.0,\n",
       "    'color': 'FFFF00',\n",
       "    'family': 'linear',\n",
       "    'inverted': False,\n",
       "    'label': 'Dapi',\n",
       "    'window': {'end': 1500.0, 'max': 65535.0, 'min': 0.0, 'start': 0.0}}],\n",
       "  'id': 1,\n",
       "  'rdefs': {'defaultT': 0, 'defaultZ': 118, 'model': 'color'},\n",
       "  'version': '0.1'}}"
      ]
     },
     "execution_count": 10,
     "metadata": {},
     "output_type": "execute_result"
    }
   ],
   "source": [
    "example.attrs.asdict()"
   ]
  },
  {
   "cell_type": "code",
   "execution_count": null,
   "id": "ranging-grave",
   "metadata": {},
   "outputs": [],
   "source": []
  }
 ],
 "metadata": {
  "kernelspec": {
   "display_name": "Python 3",
   "language": "python",
   "name": "python3"
  },
  "language_info": {
   "codemirror_mode": {
    "name": "ipython",
    "version": 3
   },
   "file_extension": ".py",
   "mimetype": "text/x-python",
   "name": "python",
   "nbconvert_exporter": "python",
   "pygments_lexer": "ipython3",
   "version": "3.7.10"
  }
 },
 "nbformat": 4,
 "nbformat_minor": 5
}

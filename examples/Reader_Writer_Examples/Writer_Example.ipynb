{
 "cells": [
  {
   "cell_type": "code",
   "execution_count": 2,
   "id": "weighted-writer",
   "metadata": {},
   "outputs": [],
   "source": [
    "import os\n",
    "import sys\n",
    "p = os.path.abspath('../..')\n",
    "if p not in sys.path:\n",
    "    sys.path.append(p)\n",
    "\n",
    "from waveorder.io.writer import WaveorderWriter\n",
    "import numpy as np\n",
    "import zarr"
   ]
  },
  {
   "cell_type": "markdown",
   "id": "studied-division",
   "metadata": {},
   "source": [
    "### Initialize the writer and set the position"
   ]
  },
  {
   "cell_type": "code",
   "execution_count": 3,
   "id": "adopted-trigger",
   "metadata": {},
   "outputs": [],
   "source": [
    "writer = WaveorderWriter('/Users/cameron.foltz/Desktop/zarr_test', 'physical')\n",
    "writer_stokes = WaveorderWriter('/Users/cameron.foltz/Desktop/zarr_test', 'stokes')"
   ]
  },
  {
   "cell_type": "code",
   "execution_count": 4,
   "id": "disturbed-value",
   "metadata": {},
   "outputs": [
    {
     "name": "stdout",
     "output_type": "stream",
     "text": [
      "Creating new store at /Users/cameron.foltz/Desktop/zarr_test/Pos_000/physical_data.zarr\n",
      "Creating new store at /Users/cameron.foltz/Desktop/zarr_test/Pos_000/stokes_data.zarr\n"
     ]
    }
   ],
   "source": [
    "writer.set_position(0)\n",
    "writer.create_zarr()\n",
    "\n",
    "writer_stokes.set_position(0)\n",
    "writer_stokes.create_zarr()"
   ]
  },
  {
   "cell_type": "markdown",
   "id": "facial-chick",
   "metadata": {},
   "source": [
    "### Create some fake data"
   ]
  },
  {
   "cell_type": "code",
   "execution_count": 5,
   "id": "viral-roller",
   "metadata": {},
   "outputs": [],
   "source": [
    "T = 3\n",
    "C = 2\n",
    "Z = 65\n",
    "Y = 256\n",
    "X = 256\n",
    "\n",
    "data = np.random.rand(T, C, Z, Y, X)\n",
    "# data = np.ones((T, C, Z, Y, X))"
   ]
  },
  {
   "cell_type": "markdown",
   "id": "legitimate-hampton",
   "metadata": {},
   "source": [
    "### initialize the array which sets the data saving parameters"
   ]
  },
  {
   "cell_type": "code",
   "execution_count": 6,
   "id": "developmental-punishment",
   "metadata": {},
   "outputs": [],
   "source": [
    "writer.init_array(data_shape=data.shape, chunk_size=(1,1,1,256,256), dtype='float32')\n",
    "writer_stokes.init_array(data_shape=(3,4,65,256,256), chunk_size=(1,1,1,256,256), dtype='float32')"
   ]
  },
  {
   "cell_type": "markdown",
   "id": "norwegian-drinking",
   "metadata": {},
   "source": [
    "### set the channel zarr_attributes"
   ]
  },
  {
   "cell_type": "code",
   "execution_count": 7,
   "id": "recovered-hometown",
   "metadata": {},
   "outputs": [],
   "source": [
    "writer.set_channel_attributes(['DAPI', 'Phase3D'])\n",
    "writer_stokes.set_channel_attributes(['S0', 'S1', 'S2', 'S3'])"
   ]
  },
  {
   "cell_type": "code",
   "execution_count": 8,
   "id": "standing-ocean",
   "metadata": {},
   "outputs": [
    {
     "data": {
      "text/plain": [
       "{'multiscales': [{'datasets': [{'path': 'array'}], 'version': '0.1'}],\n",
       " 'omero': {'channels': [{'active': True,\n",
       "    'coefficient': 1.0,\n",
       "    'color': '808080',\n",
       "    'family': 'linear',\n",
       "    'inverted': False,\n",
       "    'label': 'DAPI',\n",
       "    'window': {'end': 1000.0, 'max': 10000.0, 'min': 0.0, 'start': 0.0}},\n",
       "   {'active': True,\n",
       "    'coefficient': 1.0,\n",
       "    'color': '808080',\n",
       "    'family': 'linear',\n",
       "    'inverted': False,\n",
       "    'label': 'Phase3D',\n",
       "    'window': {'end': 0.2, 'max': 1.0, 'min': -1.0, 'start': -0.2}}]},\n",
       " 'rdefs': {'defaultT': 0,\n",
       "  'model': 'color',\n",
       "  'projection': 'normal',\n",
       "  'defaultZ': 0}}"
      ]
     },
     "execution_count": 8,
     "metadata": {},
     "output_type": "execute_result"
    }
   ],
   "source": [
    "# print zarr_attributes dictionary\n",
    "writer.store.attrs.asdict()"
   ]
  },
  {
   "cell_type": "code",
   "execution_count": 10,
   "id": "abroad-chicago",
   "metadata": {},
   "outputs": [
    {
     "data": {
      "text/plain": [
       "{'multiscales': [{'datasets': [{'path': 'array'}], 'version': '0.1'}],\n",
       " 'omero': {'channels': [{'active': True,\n",
       "    'coefficient': 1.0,\n",
       "    'color': '808080',\n",
       "    'family': 'linear',\n",
       "    'inverted': False,\n",
       "    'label': 'S0',\n",
       "    'window': {'end': 1.0, 'max': 10, 'min': 0.0, 'start': 0.0}},\n",
       "   {'active': True,\n",
       "    'coefficient': 1.0,\n",
       "    'color': '808080',\n",
       "    'family': 'linear',\n",
       "    'inverted': False,\n",
       "    'label': 'S1',\n",
       "    'window': {'end': 0.5, 'max': 1.0, 'min': -1.0, 'start': -0.5}},\n",
       "   {'active': True,\n",
       "    'coefficient': 1.0,\n",
       "    'color': '808080',\n",
       "    'family': 'linear',\n",
       "    'inverted': False,\n",
       "    'label': 'S2',\n",
       "    'window': {'end': 0.5, 'max': 1.0, 'min': -1.0, 'start': -0.5}},\n",
       "   {'active': True,\n",
       "    'coefficient': 1.0,\n",
       "    'color': '808080',\n",
       "    'family': 'linear',\n",
       "    'inverted': False,\n",
       "    'label': 'S3',\n",
       "    'window': {'end': 1.0, 'max': 1.0, 'min': -1.0, 'start': -1.0}}]},\n",
       " 'rdefs': {'defaultT': 0,\n",
       "  'model': 'color',\n",
       "  'projection': 'normal',\n",
       "  'defaultZ': 0}}"
      ]
     },
     "execution_count": 10,
     "metadata": {},
     "output_type": "execute_result"
    }
   ],
   "source": [
    "writer_stokes.store.attrs.asdict()"
   ]
  },
  {
   "cell_type": "markdown",
   "id": "clinical-graphic",
   "metadata": {},
   "source": [
    "### Write the data along specific dimensions"
   ]
  },
  {
   "cell_type": "code",
   "execution_count": 11,
   "id": "processed-plate",
   "metadata": {},
   "outputs": [],
   "source": [
    "writer.write(data, T=[0,3], C=[0,2], Z=[0,65])"
   ]
  }
 ],
 "metadata": {
  "kernelspec": {
   "display_name": "Python 3",
   "language": "python",
   "name": "python3"
  },
  "language_info": {
   "codemirror_mode": {
    "name": "ipython",
    "version": 3
   },
   "file_extension": ".py",
   "mimetype": "text/x-python",
   "name": "python",
   "nbconvert_exporter": "python",
   "pygments_lexer": "ipython3",
   "version": "3.7.10"
  }
 },
 "nbformat": 4,
 "nbformat_minor": 5
}

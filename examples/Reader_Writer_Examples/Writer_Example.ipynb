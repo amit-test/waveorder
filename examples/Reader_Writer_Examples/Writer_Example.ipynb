{
 "cells": [
  {
   "cell_type": "code",
   "execution_count": 1,
   "id": "weighted-writer",
   "metadata": {},
   "outputs": [],
   "source": [
    "import os\n",
    "import sys\n",
    "p = os.path.abspath('../..')\n",
    "if p not in sys.path:\n",
    "    sys.path.append(p)\n",
    "\n",
    "from waveorder.io.writer import WaveorderWriter\n",
    "import numpy as np\n",
    "import zarr"
   ]
  },
  {
   "cell_type": "code",
   "execution_count": 2,
   "id": "adopted-trigger",
   "metadata": {},
   "outputs": [],
   "source": [
    "writer = WaveorderWriter('/Users/cameron.foltz/Desktop/zarr_test', 'physical')"
   ]
  },
  {
   "cell_type": "code",
   "execution_count": 3,
   "id": "disturbed-value",
   "metadata": {},
   "outputs": [
    {
     "name": "stdout",
     "output_type": "stream",
     "text": [
      "Found existing store at /Users/cameron.foltz/Desktop/zarr_test/Pos_002/physical_data.zarr\n"
     ]
    }
   ],
   "source": [
    "writer.set_position(2)\n",
    "writer.create_zarr()"
   ]
  },
  {
   "cell_type": "code",
   "execution_count": 7,
   "id": "russian-flesh",
   "metadata": {},
   "outputs": [],
   "source": [
    "T = 3\n",
    "C = 2\n",
    "Z = 65\n",
    "Y = 256\n",
    "X = 256\n",
    "\n",
    "data = np.random.rand(T, C, Z, Y, X)\n",
    "# data = np.ones((T, C, Z, Y, X))"
   ]
  },
  {
   "cell_type": "code",
   "execution_count": 8,
   "id": "demonstrated-career",
   "metadata": {},
   "outputs": [
    {
     "data": {
      "text/plain": [
       "dtype('float64')"
      ]
     },
     "execution_count": 8,
     "metadata": {},
     "output_type": "execute_result"
    }
   ],
   "source": [
    "data.dtype"
   ]
  },
  {
   "cell_type": "code",
   "execution_count": 9,
   "id": "particular-techno",
   "metadata": {},
   "outputs": [],
   "source": [
    "writer.init_array(data_shape=data.shape, chunk_size=(1,1,1,256,256), dtype='float64')"
   ]
  },
  {
   "cell_type": "code",
   "execution_count": 10,
   "id": "unable-reputation",
   "metadata": {},
   "outputs": [],
   "source": [
    "writer.set_channel_attributes(['DAPI', 'Phase3D'])"
   ]
  },
  {
   "cell_type": "code",
   "execution_count": 11,
   "id": "brief-resolution",
   "metadata": {},
   "outputs": [
    {
     "data": {
      "text/plain": [
       "{'multiscales': [{'datasets': [{'path': 'array'}], 'version': '0.1'}],\n",
       " 'omero': {'channels': [{'active': True,\n",
       "    'coefficient': 1.0,\n",
       "    'color': '808080',\n",
       "    'family': 'linear',\n",
       "    'inverted': False,\n",
       "    'label': 'DAPI',\n",
       "    'window': {'end': 65535.0, 'max': 65535.0, 'min': 0.0, 'start': 0.0}},\n",
       "   {'active': True,\n",
       "    'coefficient': 1.0,\n",
       "    'color': '808080',\n",
       "    'family': 'linear',\n",
       "    'inverted': False,\n",
       "    'label': 'Phase3D',\n",
       "    'window': {'end': 65535.0, 'max': 65535.0, 'min': 0.0, 'start': 0.0}}]},\n",
       " 'rdefs': {'defaultT': 0,\n",
       "  'model': 'color',\n",
       "  'projection': 'normal',\n",
       "  'defaultZ': 0}}"
      ]
     },
     "execution_count": 11,
     "metadata": {},
     "output_type": "execute_result"
    }
   ],
   "source": [
    "writer.store.attrs.asdict()"
   ]
  },
  {
   "cell_type": "code",
   "execution_count": 13,
   "id": "processed-plate",
   "metadata": {},
   "outputs": [],
   "source": [
    "writer.write(data, T=[0,3], C=[0,2], Z=[0,65])"
   ]
  },
  {
   "cell_type": "code",
   "execution_count": 10,
   "id": "sublime-taxation",
   "metadata": {},
   "outputs": [
    {
     "data": {
      "text/plain": [
       "True"
      ]
     },
     "execution_count": 10,
     "metadata": {},
     "output_type": "execute_result"
    }
   ],
   "source": [
    "isinstance(T, int)"
   ]
  },
  {
   "cell_type": "code",
   "execution_count": null,
   "id": "swedish-thunder",
   "metadata": {},
   "outputs": [],
   "source": [
    "writer.add_store('func_test_2')"
   ]
  },
  {
   "cell_type": "code",
   "execution_count": null,
   "id": "recent-innocent",
   "metadata": {},
   "outputs": [],
   "source": [
    "writer.add_store('func_test_3.zarr')"
   ]
  },
  {
   "cell_type": "code",
   "execution_count": null,
   "id": "retained-variable",
   "metadata": {},
   "outputs": [],
   "source": [
    "writer.set_store('func_test_2')"
   ]
  },
  {
   "cell_type": "code",
   "execution_count": 18,
   "id": "supreme-cookbook",
   "metadata": {},
   "outputs": [
    {
     "name": "stdout",
     "output_type": "stream",
     "text": [
      "Name        : /\n",
      "Type        : zarr.hierarchy.Group\n",
      "Read-only   : False\n",
      "Store type  : zarr.storage.DirectoryStore\n",
      "No. members : 1\n",
      "No. arrays  : 1\n",
      "No. groups  : 0\n",
      "Arrays      : array\n",
      "\n"
     ]
    }
   ],
   "source": [
    "print(writer.store.info)"
   ]
  },
  {
   "cell_type": "code",
   "execution_count": 20,
   "id": "informational-shuttle",
   "metadata": {},
   "outputs": [],
   "source": [
    "example = zarr.open('/Users/cameron.foltz/6001240.zarr')"
   ]
  },
  {
   "cell_type": "code",
   "execution_count": 21,
   "id": "reasonable-shepherd",
   "metadata": {},
   "outputs": [
    {
     "data": {
      "text/html": [
       "<table class=\"zarr-info\"><tbody><tr><th style=\"text-align: left\">Name</th><td style=\"text-align: left\">/2</td></tr><tr><th style=\"text-align: left\">Type</th><td style=\"text-align: left\">zarr.core.Array</td></tr><tr><th style=\"text-align: left\">Data type</th><td style=\"text-align: left\">uint16</td></tr><tr><th style=\"text-align: left\">Shape</th><td style=\"text-align: left\">(1, 2, 236, 68, 67)</td></tr><tr><th style=\"text-align: left\">Chunk shape</th><td style=\"text-align: left\">(1, 1, 1, 68, 67)</td></tr><tr><th style=\"text-align: left\">Order</th><td style=\"text-align: left\">C</td></tr><tr><th style=\"text-align: left\">Read-only</th><td style=\"text-align: left\">False</td></tr><tr><th style=\"text-align: left\">Compressor</th><td style=\"text-align: left\">Blosc(cname='lz4', clevel=5, shuffle=SHUFFLE, blocksize=0)</td></tr><tr><th style=\"text-align: left\">Store type</th><td style=\"text-align: left\">zarr.storage.DirectoryStore</td></tr><tr><th style=\"text-align: left\">No. bytes</th><td style=\"text-align: left\">4300864 (4.1M)</td></tr><tr><th style=\"text-align: left\">No. bytes stored</th><td style=\"text-align: left\">2311621 (2.2M)</td></tr><tr><th style=\"text-align: left\">Storage ratio</th><td style=\"text-align: left\">1.9</td></tr><tr><th style=\"text-align: left\">Chunks initialized</th><td style=\"text-align: left\">472/472</td></tr></tbody></table>"
      ],
      "text/plain": [
       "Name               : /2\n",
       "Type               : zarr.core.Array\n",
       "Data type          : uint16\n",
       "Shape              : (1, 2, 236, 68, 67)\n",
       "Chunk shape        : (1, 1, 1, 68, 67)\n",
       "Order              : C\n",
       "Read-only          : False\n",
       "Compressor         : Blosc(cname='lz4', clevel=5, shuffle=SHUFFLE, blocksize=0)\n",
       "Store type         : zarr.storage.DirectoryStore\n",
       "No. bytes          : 4300864 (4.1M)\n",
       "No. bytes stored   : 2311621 (2.2M)\n",
       "Storage ratio      : 1.9\n",
       "Chunks initialized : 472/472"
      ]
     },
     "execution_count": 21,
     "metadata": {},
     "output_type": "execute_result"
    }
   ],
   "source": [
    "example['2'].info"
   ]
  },
  {
   "cell_type": "code",
   "execution_count": 10,
   "id": "threaded-complaint",
   "metadata": {},
   "outputs": [
    {
     "data": {
      "text/plain": [
       "{'_creator': {'name': 'omero-zarr',\n",
       "  'version': '0.0.10.dev0+g98cf12c.d20201130'},\n",
       " 'multiscales': [{'datasets': [{'path': '0'}, {'path': '1'}, {'path': '2'}],\n",
       "   'version': '0.1'}],\n",
       " 'omero': {'channels': [{'active': True,\n",
       "    'coefficient': 1.0,\n",
       "    'color': '0000FF',\n",
       "    'family': 'linear',\n",
       "    'inverted': False,\n",
       "    'label': 'LaminB1',\n",
       "    'window': {'end': 1500.0, 'max': 65535.0, 'min': 0.0, 'start': 0.0}},\n",
       "   {'active': True,\n",
       "    'coefficient': 1.0,\n",
       "    'color': 'FFFF00',\n",
       "    'family': 'linear',\n",
       "    'inverted': False,\n",
       "    'label': 'Dapi',\n",
       "    'window': {'end': 1500.0, 'max': 65535.0, 'min': 0.0, 'start': 0.0}}],\n",
       "  'id': 1,\n",
       "  'rdefs': {'defaultT': 0, 'defaultZ': 118, 'model': 'color'},\n",
       "  'version': '0.1'}}"
      ]
     },
     "execution_count": 10,
     "metadata": {},
     "output_type": "execute_result"
    }
   ],
   "source": [
    "example.attrs.asdict()"
   ]
  },
  {
   "cell_type": "code",
   "execution_count": null,
   "id": "distinguished-wrestling",
   "metadata": {},
   "outputs": [],
   "source": []
  }
 ],
 "metadata": {
  "kernelspec": {
   "display_name": "Python 3",
   "language": "python",
   "name": "python3"
  },
  "language_info": {
   "codemirror_mode": {
    "name": "ipython",
    "version": 3
   },
   "file_extension": ".py",
   "mimetype": "text/x-python",
   "name": "python",
   "nbconvert_exporter": "python",
   "pygments_lexer": "ipython3",
   "version": "3.7.10"
  }
 },
 "nbformat": 4,
 "nbformat_minor": 5
}

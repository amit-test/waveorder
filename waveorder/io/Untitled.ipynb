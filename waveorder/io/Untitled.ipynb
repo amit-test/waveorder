{
 "cells": [
  {
   "cell_type": "code",
   "execution_count": 1,
   "id": "weighted-writer",
   "metadata": {},
   "outputs": [],
   "source": [
    "from writer import WaveorderWriter\n",
    "import numpy as np\n",
    "import zarr"
   ]
  },
  {
   "cell_type": "code",
   "execution_count": 2,
   "id": "adopted-trigger",
   "metadata": {},
   "outputs": [],
   "source": [
    "writer = WaveorderWriter('/Users/cameron.foltz/Desktop/zarr_test', 'stokes')"
   ]
  },
  {
   "cell_type": "code",
   "execution_count": 3,
   "id": "disturbed-value",
   "metadata": {},
   "outputs": [
    {
     "name": "stdout",
     "output_type": "stream",
     "text": [
      "Opening existing store at /Users/cameron.foltz/Desktop/zarr_test/func_test_5.zarr\n"
     ]
    }
   ],
   "source": [
    "writer.set_store('/Users/cameron.foltz/Desktop/zarr_test/func_test_5.zarr')"
   ]
  },
  {
   "cell_type": "code",
   "execution_count": 4,
   "id": "spatial-portland",
   "metadata": {},
   "outputs": [],
   "source": [
    "data_shape = (10, 1, 65, 2048, 2048)\n",
    "chunk_size = (1, 1, 1, 2048, 2048)\n",
    "dtype = 'uint16'\n",
    "\n",
    "data = np.ones(data_shape, dtype=dtype)\n",
    "\n",
    "writer.init_array(data_shape, chunk_size, dtype)"
   ]
  },
  {
   "cell_type": "code",
   "execution_count": 17,
   "id": "alive-malpractice",
   "metadata": {},
   "outputs": [
    {
     "data": {
      "text/html": [
       "<table class=\"zarr-info\"><tbody><tr><th style=\"text-align: left\">Name</th><td style=\"text-align: left\">/array</td></tr><tr><th style=\"text-align: left\">Type</th><td style=\"text-align: left\">zarr.core.Array</td></tr><tr><th style=\"text-align: left\">Data type</th><td style=\"text-align: left\">uint16</td></tr><tr><th style=\"text-align: left\">Shape</th><td style=\"text-align: left\">(10, 1, 65, 2048, 2048)</td></tr><tr><th style=\"text-align: left\">Chunk shape</th><td style=\"text-align: left\">(1, 1, 1, 2048, 2048)</td></tr><tr><th style=\"text-align: left\">Order</th><td style=\"text-align: left\">C</td></tr><tr><th style=\"text-align: left\">Read-only</th><td style=\"text-align: left\">False</td></tr><tr><th style=\"text-align: left\">Compressor</th><td style=\"text-align: left\">Blosc(cname='zstd', clevel=1, shuffle=SHUFFLE, blocksize=0)</td></tr><tr><th style=\"text-align: left\">Store type</th><td style=\"text-align: left\">zarr.storage.DirectoryStore</td></tr><tr><th style=\"text-align: left\">No. bytes</th><td style=\"text-align: left\">5452595200 (5.1G)</td></tr><tr><th style=\"text-align: left\">No. bytes stored</th><td style=\"text-align: left\">533932 (521.4K)</td></tr><tr><th style=\"text-align: left\">Storage ratio</th><td style=\"text-align: left\">10212.2</td></tr><tr><th style=\"text-align: left\">Chunks initialized</th><td style=\"text-align: left\">65/650</td></tr></tbody></table>"
      ],
      "text/plain": [
       "Name               : /array\n",
       "Type               : zarr.core.Array\n",
       "Data type          : uint16\n",
       "Shape              : (10, 1, 65, 2048, 2048)\n",
       "Chunk shape        : (1, 1, 1, 2048, 2048)\n",
       "Order              : C\n",
       "Read-only          : False\n",
       "Compressor         : Blosc(cname='zstd', clevel=1, shuffle=SHUFFLE, blocksize=0)\n",
       "Store type         : zarr.storage.DirectoryStore\n",
       "No. bytes          : 5452595200 (5.1G)\n",
       "No. bytes stored   : 533932 (521.4K)\n",
       "Storage ratio      : 10212.2\n",
       "Chunks initialized : 65/650"
      ]
     },
     "execution_count": 17,
     "metadata": {},
     "output_type": "execute_result"
    }
   ],
   "source": [
    "writer.store['array'].info"
   ]
  },
  {
   "cell_type": "code",
   "execution_count": 14,
   "id": "processed-plate",
   "metadata": {},
   "outputs": [],
   "source": [
    "writer.write(data[0, 0:50, 0:65, :, :], P=[0], T=[0,54], Z=[0,65])"
   ]
  },
  {
   "cell_type": "code",
   "execution_count": 16,
   "id": "republican-smoke",
   "metadata": {},
   "outputs": [
    {
     "data": {
      "text/plain": [
       "(2, 1, 65, 2048, 2048)"
      ]
     },
     "execution_count": 16,
     "metadata": {},
     "output_type": "execute_result"
    }
   ],
   "source": [
    "np.shape(data[0:2, 0:50, 0:65, :, :])"
   ]
  },
  {
   "cell_type": "code",
   "execution_count": null,
   "id": "swedish-thunder",
   "metadata": {},
   "outputs": [],
   "source": [
    "writer.add_store('func_test_2')"
   ]
  },
  {
   "cell_type": "code",
   "execution_count": null,
   "id": "recent-innocent",
   "metadata": {},
   "outputs": [],
   "source": [
    "writer.add_store('func_test_3.zarr')"
   ]
  },
  {
   "cell_type": "code",
   "execution_count": null,
   "id": "retained-variable",
   "metadata": {},
   "outputs": [],
   "source": [
    "writer.set_store('func_test_2')"
   ]
  },
  {
   "cell_type": "code",
   "execution_count": 18,
   "id": "supreme-cookbook",
   "metadata": {},
   "outputs": [
    {
     "name": "stdout",
     "output_type": "stream",
     "text": [
      "Name        : /\n",
      "Type        : zarr.hierarchy.Group\n",
      "Read-only   : False\n",
      "Store type  : zarr.storage.DirectoryStore\n",
      "No. members : 1\n",
      "No. arrays  : 1\n",
      "No. groups  : 0\n",
      "Arrays      : array\n",
      "\n"
     ]
    }
   ],
   "source": [
    "print(writer.store.info)"
   ]
  },
  {
   "cell_type": "code",
   "execution_count": null,
   "id": "informational-shuttle",
   "metadata": {},
   "outputs": [],
   "source": []
  }
 ],
 "metadata": {
  "kernelspec": {
   "display_name": "Python 3",
   "language": "python",
   "name": "python3"
  },
  "language_info": {
   "codemirror_mode": {
    "name": "ipython",
    "version": 3
   },
   "file_extension": ".py",
   "mimetype": "text/x-python",
   "name": "python",
   "nbconvert_exporter": "python",
   "pygments_lexer": "ipython3",
   "version": "3.7.10"
  }
 },
 "nbformat": 4,
 "nbformat_minor": 5
}

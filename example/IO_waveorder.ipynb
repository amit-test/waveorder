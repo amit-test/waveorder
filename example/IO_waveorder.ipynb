{
 "cells": [
  {
   "cell_type": "code",
   "execution_count": 13,
   "metadata": {},
   "outputs": [
    {
     "name": "stdout",
     "output_type": "stream",
     "text": [
      "The autoreload extension is already loaded. To reload it, use:\n",
      "  %reload_ext autoreload\n"
     ]
    }
   ],
   "source": [
    "import numpy as np\n",
    "import matplotlib.pyplot as plt\n",
    "import cv2\n",
    "from matplotlib.colors import hsv_to_rgb\n",
    "from numpy.fft import fft2, ifft2, fftshift, ifftshift\n",
    "\n",
    "from skimage import io\n",
    "import glob\n",
    "from PIL import Image\n",
    "import pickle\n",
    "import os\n",
    "\n",
    "import waveorder as wo\n",
    "\n",
    "%load_ext autoreload\n",
    "%autoreload 2\n",
    "%matplotlib inline\n",
    "plt.style.use(['dark_background']) # Plotting option for dark background\n"
   ]
  },
  {
   "cell_type": "code",
   "execution_count": 1,
   "metadata": {},
   "outputs": [],
   "source": [
    "#Reading files using optimized method (according to IO Speeds notebook from czbiohub/virusLifecycle).\n",
    "def optimizedReading(img_paths):\n",
    "    \"\"\"This function takes in a list of image paths i.e. [\"../path1, ../path2\"] \n",
    "    and reads each image into a numpy array.\"\"\"\n",
    "    \n",
    "    length = len(img_paths)\n",
    "    empty = np.empty((length, 2048, 2048), dtype = 'uint16')\n",
    "    \n",
    "    for num, img in zip(np.arange(length), img_paths):\n",
    "        empty[num,:,:] = io.imread(img)\n",
    "    \n",
    "    return empty"
   ]
  },
  {
   "cell_type": "code",
   "execution_count": 2,
   "metadata": {},
   "outputs": [],
   "source": [
    "data_path     = '/mnt/comp_micro/SpinningDisk/RawData/virtualstaining/2019_04_08_U2OS_plin2/2019_04_08_U2OS_plin2_Lipid_MT_Actin_3/2-Pos_001_002/'        # data path\n",
    "bg_path       = '/mnt/comp_micro/SpinningDisk/RawData/virtualstaining/2019_04_08_U2OS_plin2/BG_2019_0408_1412_1/Pos0/'\n"
   ]
  },
  {
   "cell_type": "code",
   "execution_count": 6,
   "metadata": {},
   "outputs": [],
   "source": [
    "filedir = data_path + '*PolState*.tif'\n",
    "filedir_bg = bg_path + '*.tif'\n",
    "files = sorted(glob.glob(filedir), key=wo.numericalSort)\n",
    "files_bg = sorted(glob.glob(filedir_bg), key=wo.numericalSort)"
   ]
  },
  {
   "cell_type": "code",
   "execution_count": 7,
   "metadata": {},
   "outputs": [
    {
     "data": {
      "text/plain": [
       "'/mnt/comp_micro/SpinningDisk/RawData/virtualstaining/2019_04_08_U2OS_plin2/2019_04_08_U2OS_plin2_Lipid_MT_Actin_3/2-Pos_001_002/img_000000000_Zyla_PolState0_Widefield_000.tif'"
      ]
     },
     "execution_count": 7,
     "metadata": {},
     "output_type": "execute_result"
    }
   ],
   "source": [
    "files[0]"
   ]
  },
  {
   "cell_type": "code",
   "execution_count": 8,
   "metadata": {},
   "outputs": [],
   "source": [
    "#select a FOV for processing\n",
    "\n",
    "Ns = 1000\n",
    "Ms = 1000\n",
    "n_start = [250, 250] # grating target"
   ]
  },
  {
   "cell_type": "code",
   "execution_count": 9,
   "metadata": {},
   "outputs": [
    {
     "name": "stdout",
     "output_type": "stream",
     "text": [
      "30.1 s ± 9.23 ms per loop (mean ± std. dev. of 7 runs, 1 loop each)\n"
     ]
    }
   ],
   "source": [
    "%%timeit\n",
    "img = plt.imread(files[0]).astype('float64')[n_start[0]:n_start[0]+Ns, n_start[1]:n_start[1]+Ms]"
   ]
  },
  {
   "cell_type": "code",
   "execution_count": 14,
   "metadata": {},
   "outputs": [
    {
     "name": "stdout",
     "output_type": "stream",
     "text": [
      "128 ms ± 1.17 ms per loop (mean ± std. dev. of 7 runs, 10 loops each)\n"
     ]
    }
   ],
   "source": [
    "%%timeit\n",
    "img = cv2.imread(files[0]).astype('float64')[n_start[0]:n_start[0]+Ns, n_start[1]:n_start[1]+Ms]"
   ]
  },
  {
   "cell_type": "code",
   "execution_count": 15,
   "metadata": {},
   "outputs": [
    {
     "name": "stdout",
     "output_type": "stream",
     "text": [
      "95.1 ms ± 586 µs per loop (mean ± std. dev. of 7 runs, 10 loops each)\n"
     ]
    }
   ],
   "source": [
    "%%timeit\n",
    "img = io.imread(files[0]).astype('float64')[n_start[0]:n_start[0]+Ns, n_start[1]:n_start[1]+Ms]"
   ]
  },
  {
   "cell_type": "markdown",
   "metadata": {},
   "source": [
    "## Reading Lists of filenames: Append vs Writing into empty array\n"
   ]
  },
  {
   "cell_type": "code",
   "execution_count": 22,
   "metadata": {},
   "outputs": [
    {
     "name": "stdout",
     "output_type": "stream",
     "text": [
      "5.28 s ± 257 ms per loop (mean ± std. dev. of 7 runs, 1 loop each)\n"
     ]
    }
   ],
   "source": [
    "%%timeit\n",
    "imgs = optimizedReading(files[:50])"
   ]
  },
  {
   "cell_type": "code",
   "execution_count": 23,
   "metadata": {},
   "outputs": [
    {
     "name": "stdout",
     "output_type": "stream",
     "text": [
      "4.4 s ± 80.1 ms per loop (mean ± std. dev. of 7 runs, 1 loop each)\n"
     ]
    }
   ],
   "source": [
    "%%timeit\n",
    "imgs = []\n",
    "for i in np.arange(50):\n",
    "    img = io.imread(files[i])\n",
    "    imgs.append(img)\n",
    "np.array(imgs)"
   ]
  },
  {
   "cell_type": "code",
   "execution_count": null,
   "metadata": {},
   "outputs": [],
   "source": []
  }
 ],
 "metadata": {
  "kernelspec": {
   "display_name": "Python 3",
   "language": "python",
   "name": "python3"
  },
  "language_info": {
   "codemirror_mode": {
    "name": "ipython",
    "version": 3
   },
   "file_extension": ".py",
   "mimetype": "text/x-python",
   "name": "python",
   "nbconvert_exporter": "python",
   "pygments_lexer": "ipython3",
   "version": "3.6.8"
  }
 },
 "nbformat": 4,
 "nbformat_minor": 2
}

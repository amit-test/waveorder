{
 "cells": [
  {
   "cell_type": "code",
   "execution_count": 1,
   "metadata": {},
   "outputs": [],
   "source": [
    "import numpy as np\n",
    "import matplotlib.pyplot as plt\n",
    "from numpy.fft import fft, ifft, fft2, ifft2, fftshift, ifftshift, fftn, ifftn\n",
    "\n",
    "import pickle\n",
    "import waveorder as wo\n",
    "import time\n",
    "\n",
    "\n",
    "%matplotlib inline\n",
    "plt.style.use(['dark_background']) # Plotting option for dark background\n"
   ]
  },
  {
   "cell_type": "markdown",
   "metadata": {},
   "source": [
    "### Experiment parameters"
   ]
  },
  {
   "cell_type": "code",
   "execution_count": 2,
   "metadata": {},
   "outputs": [],
   "source": [
    "N           = 200                 # number of pixel in y dimension\n",
    "M           = 200                 # number of pixel in x dimension\n",
    "L           = 100                 # number of layers in z dimension\n",
    "n_media     = 1.33                # refractive index in the media\n",
    "mag         = 63                  # magnification\n",
    "ps          = 6.5/mag             # effective pixel size\n",
    "psz         = 0.125/2             # axial pixel size\n",
    "lambda_illu = 0.532               # wavelength\n",
    "NA_obj      = 1.2                 # objective NA\n",
    "NA_illu     = 0.9                 # illumination NA\n",
    "chi         = 0.03*2*np.pi         # swing of the microscope\n",
    "z_defocus = (np.r_[:L]-L//2)*psz  # defocus position\n",
    "use_gpu     = True\n",
    "gpu_id      = 2"
   ]
  },
  {
   "cell_type": "markdown",
   "metadata": {},
   "source": [
    "### Sample creation"
   ]
  },
  {
   "cell_type": "code",
   "execution_count": 3,
   "metadata": {},
   "outputs": [
    {
     "data": {
      "application/vnd.jupyter.widget-view+json": {
       "model_id": "83287d9c86394809bbeacf8c4fdefc7b",
       "version_major": 2,
       "version_minor": 0
      },
      "text/plain": [
       "interactive(children=(IntSlider(value=0, description='stack_idx', max=99), Output()), _dom_classes=('widget-in…"
      ]
     },
     "metadata": {},
     "output_type": "display_data"
    },
    {
     "data": {
      "text/plain": [
       "<function waveorder.visual.parallel_4D_viewer.<locals>.interact_plot(stack_idx)>"
      ]
     },
     "execution_count": 3,
     "metadata": {},
     "output_type": "execute_result"
    }
   ],
   "source": [
    "# radius = 1.5\n",
    "blur_size = 1*ps\n",
    "# target, azimuth, inc_angle = wo.gen_sphere_target((N,M,L), ps, psz, radius, blur_size)\n",
    "# target, azimuth, inc_angle = wo.genStarTarget_3D((N,M,L), ps, psz, blur_size, inc_upper_bound=np.pi/4, inc_range=np.pi/64)\n",
    "target, azimuth, inc_angle = wo.genStarTarget_3D((N,M,L), ps, psz, blur_size)\n",
    "\n",
    "# inc_angle = (inc_angle-np.pi/2)*3+np.pi/2\n",
    "# target[:,:,:45] = 0\n",
    "# target[:,:,-45:] = 0\n",
    "\n",
    "# target, azimuth, xx = wo.genStarTarget(N,M)\n",
    "# xx = xx/np.max(xx)\n",
    "# inc_angle = (np.abs(np.pi/2 * xx) + np.pi/2)\n",
    "# azimuth = np.abs(azimuth)\n",
    "\n",
    "# target = np.pad(target[:,:,np.newaxis], ((0,0), (0,0), (50,49)), mode='constant')\n",
    "# azimuth = np.pad(azimuth[:,:,np.newaxis], ((0,0), (0,0), (50,49)), mode='constant')\n",
    "# inc_angle = np.pad(inc_angle[:,:,np.newaxis], ((0,0), (0,0), (50,49)), mode='constant')\n",
    "\n",
    "# target[:,:,51:51+2] = np.transpose(np.stack([target[:,:,50],target[:,:,50]]),(1,2,0))\n",
    "# azimuth[:,:,51:51+2] = np.transpose(np.stack([azimuth[:,:,50],azimuth[:,:,50]]),(1,2,0))\n",
    "# inc_angle[:,:,51:51+2] = np.transpose(np.stack([inc_angle[:,:,50],inc_angle[:,:,50]]),(1,2,0))\n",
    "\n",
    "# target[:,:,48:50] = np.transpose(np.stack([target[:,:,50],target[:,:,50]]),(1,2,0))\n",
    "# azimuth[:,:,48:50] = np.transpose(np.stack([azimuth[:,:,50],azimuth[:,:,50]]),(1,2,0))\n",
    "# inc_angle[:,:,48:50] = np.transpose(np.stack([inc_angle[:,:,50],inc_angle[:,:,50]]),(1,2,0))\n",
    "\n",
    "\n",
    "wo.parallel_4D_viewer(np.transpose(np.stack([target, azimuth%(2*np.pi), inc_angle]),(3,0,1,2)), num_col=3, size=5, origin='lower')"
   ]
  },
  {
   "cell_type": "code",
   "execution_count": 4,
   "metadata": {},
   "outputs": [
    {
     "data": {
      "application/vnd.jupyter.widget-view+json": {
       "model_id": "2b1883f64d164094830ed7390917bcd9",
       "version_major": 2,
       "version_minor": 0
      },
      "text/plain": [
       "interactive(children=(IntSlider(value=0, description='stack_idx', max=199), Output()), _dom_classes=('widget-i…"
      ]
     },
     "metadata": {},
     "output_type": "display_data"
    },
    {
     "data": {
      "text/plain": [
       "<function waveorder.visual.image_stack_viewer.<locals>.interact_plot_3D(stack_idx)>"
      ]
     },
     "execution_count": 4,
     "metadata": {},
     "output_type": "execute_result"
    }
   ],
   "source": [
    "wo.image_stack_viewer(np.transpose(target,(0,2,1)))"
   ]
  },
  {
   "cell_type": "code",
   "execution_count": 5,
   "metadata": {},
   "outputs": [],
   "source": [
    "## Physical value assignment\n",
    "\n",
    "n_o = 1.33+0.02 \n",
    "n_e = 1.33+0.07\n",
    "\n",
    "theta = inc_angle\n",
    "orientation = (azimuth)%(2*np.pi)\n",
    "\n",
    "no_map = np.zeros((N,M,L))\n",
    "no_map[target > 0] = target[target > 0]*(n_o-n_media)\n",
    "no_map += n_media\n",
    "\n",
    "ne_map = np.zeros((N,M,L))\n",
    "ne_map[target > 0] = target[target > 0]*(n_e-n_media)\n",
    "ne_map += n_media\n",
    "\n",
    "epsilon_mean = (ne_map**2 + no_map**2)/2\n",
    "epsilon_del = (ne_map**2 - no_map**2)/2\n",
    "\n",
    "\n",
    "epsilon_tensor = np.zeros((3,3,N,M,L))\n",
    "epsilon_tensor[0,0] = epsilon_mean - epsilon_del*(np.cos(theta)**2 - np.sin(theta)**2 * np.cos(2*orientation))\n",
    "epsilon_tensor[0,1] = epsilon_del * np.sin(theta)**2 * np.sin(2*orientation)\n",
    "epsilon_tensor[0,2] = epsilon_del * np.sin(2*theta) * np.cos(orientation)\n",
    "\n",
    "epsilon_tensor[1,0] = epsilon_del * np.sin(theta)**2 * np.sin(2*orientation)\n",
    "epsilon_tensor[1,1] = epsilon_mean - epsilon_del*(np.cos(theta)**2 + np.sin(theta)**2 * np.cos(2*orientation))\n",
    "epsilon_tensor[1,2] = epsilon_del * np.sin(2*theta) * np.sin(orientation)\n",
    "\n",
    "epsilon_tensor[2,0] = epsilon_del * np.sin(2*theta) * np.cos(orientation)\n",
    "epsilon_tensor[2,1] = epsilon_del * np.sin(2*theta) * np.sin(orientation)\n",
    "epsilon_tensor[2,2] = epsilon_mean + epsilon_del*np.cos(2*theta)\n"
   ]
  },
  {
   "cell_type": "code",
   "execution_count": 6,
   "metadata": {},
   "outputs": [
    {
     "data": {
      "application/vnd.jupyter.widget-view+json": {
       "model_id": "ca7080019e3647e4938c6b94141744c3",
       "version_major": 2,
       "version_minor": 0
      },
      "text/plain": [
       "interactive(children=(IntSlider(value=0, description='stack_idx', max=99), Output()), _dom_classes=('widget-in…"
      ]
     },
     "metadata": {},
     "output_type": "display_data"
    },
    {
     "data": {
      "text/plain": [
       "<function waveorder.visual.parallel_4D_viewer.<locals>.interact_plot(stack_idx)>"
      ]
     },
     "execution_count": 6,
     "metadata": {},
     "output_type": "execute_result"
    }
   ],
   "source": [
    "wo.parallel_4D_viewer(np.transpose(epsilon_tensor.reshape((9, N, M, L)),(3,0,1,2)), num_col=3, size=5, origin='lower')"
   ]
  },
  {
   "cell_type": "code",
   "execution_count": 7,
   "metadata": {},
   "outputs": [],
   "source": [
    "# physical properties translated in the reconstructed parameters\n",
    "\n",
    "del_f_component = np.zeros((7, N, M, L))\n",
    "del_f_component[0] = np.real(((2*np.pi/lambda_illu)**2)*(n_media**2 -  epsilon_mean + epsilon_del*np.cos(theta)**2))\n",
    "del_f_component[1] = np.imag(((2*np.pi/lambda_illu)**2)*(n_media**2 -  epsilon_mean + epsilon_del*np.cos(theta)**2))\n",
    "del_f_component[2] = -((2*np.pi/lambda_illu)**2) * epsilon_del * np.sin(theta)**2 * np.cos(2*orientation)\n",
    "del_f_component[3] = -((2*np.pi/lambda_illu)**2) * epsilon_del * np.sin(theta)**2 * np.sin(2*orientation)\n",
    "del_f_component[4] = -((2*np.pi/lambda_illu)**2) * epsilon_del * np.sin(2*theta) * np.cos(orientation)\n",
    "del_f_component[5] = -((2*np.pi/lambda_illu)**2) * epsilon_del * np.sin(2*theta) * np.sin(orientation)\n",
    "del_f_component[6] = ((2*np.pi/lambda_illu)**2) * epsilon_del * (np.sin(theta)**2 - 2*np.cos(theta)**2)"
   ]
  },
  {
   "cell_type": "code",
   "execution_count": 8,
   "metadata": {},
   "outputs": [
    {
     "data": {
      "application/vnd.jupyter.widget-view+json": {
       "model_id": "38981b09884c44a5be71f192cb35511f",
       "version_major": 2,
       "version_minor": 0
      },
      "text/plain": [
       "interactive(children=(IntSlider(value=0, description='stack_idx', max=99), Output()), _dom_classes=('widget-in…"
      ]
     },
     "metadata": {},
     "output_type": "display_data"
    },
    {
     "data": {
      "text/plain": [
       "<function waveorder.visual.parallel_4D_viewer.<locals>.interact_plot(stack_idx)>"
      ]
     },
     "execution_count": 8,
     "metadata": {},
     "output_type": "execute_result"
    }
   ],
   "source": [
    "wo.parallel_4D_viewer(np.transpose(del_f_component,(3,0,1,2)), num_col=4, origin='lower')"
   ]
  },
  {
   "cell_type": "code",
   "execution_count": 9,
   "metadata": {},
   "outputs": [
    {
     "data": {
      "application/vnd.jupyter.widget-view+json": {
       "model_id": "a2273fdd78314c479cf842a3035a2bb3",
       "version_major": 2,
       "version_minor": 0
      },
      "text/plain": [
       "interactive(children=(IntSlider(value=0, description='stack_idx', max=99), Output()), _dom_classes=('widget-in…"
      ]
     },
     "metadata": {},
     "output_type": "display_data"
    },
    {
     "data": {
      "text/plain": [
       "<matplotlib.image.AxesImage at 0x7ffd2e302fd0>"
      ]
     },
     "execution_count": 9,
     "metadata": {},
     "output_type": "execute_result"
    },
    {
     "data": {
      "image/png": "[encoded data removed]",
      "text/plain": [
       "<Figure size 216x216 with 1 Axes>"
      ]
     },
     "metadata": {
      "needs_background": "dark"
     },
     "output_type": "display_data"
    }
   ],
   "source": [
    "\n",
    "orientation_3D_image = np.transpose(np.array([orientation/2/np.pi, theta,  np.clip((ne_map-no_map)*psz*2*np.pi/lambda_illu/np.pi/2*lambda_illu*1e3,0, 3)/3]),(3,1,2,0))\n",
    "orientation_3D_image_RGB = wo.orientation_3D_to_rgb(orientation_3D_image, interp_belt = 20/180*np.pi, sat_factor = 1)\n",
    "\n",
    "\n",
    "wo.rgb_stack_viewer(orientation_3D_image_RGB, size=10, origin='lower')\n",
    "plt.figure(figsize=(3,3))\n",
    "wo.orientation_3D_colorwheel(wheelsize=256, circ_size=50, interp_belt=20/180*np.pi, sat_factor=1)"
   ]
  },
  {
   "cell_type": "code",
   "execution_count": 10,
   "metadata": {},
   "outputs": [
    {
     "data": {
      "application/vnd.jupyter.widget-view+json": {
       "model_id": "86cb51ade7614f4c919d0e43ec2628fb",
       "version_major": 2,
       "version_minor": 0
      },
      "text/plain": [
       "interactive(children=(IntSlider(value=0, description='stack_idx', max=199), Output()), _dom_classes=('widget-i…"
      ]
     },
     "metadata": {},
     "output_type": "display_data"
    },
    {
     "data": {
      "text/plain": [
       "<matplotlib.image.AxesImage at 0x7ffd2e2ef588>"
      ]
     },
     "execution_count": 10,
     "metadata": {},
     "output_type": "execute_result"
    },
    {
     "data": {
      "image/png": "[encoded data removed]",
      "text/plain": [
       "<Figure size 216x216 with 1 Axes>"
      ]
     },
     "metadata": {
      "needs_background": "dark"
     },
     "output_type": "display_data"
    }
   ],
   "source": [
    "wo.rgb_stack_viewer(np.transpose(orientation_3D_image_RGB,(1,0,2,3)), size=10, origin='lower')\n",
    "plt.figure(figsize=(3,3))\n",
    "wo.orientation_3D_colorwheel(wheelsize=256, circ_size=50, interp_belt=20/180*np.pi, sat_factor=1)"
   ]
  },
  {
   "cell_type": "markdown",
   "metadata": {},
   "source": [
    "### Setup acquisition"
   ]
  },
  {
   "cell_type": "code",
   "execution_count": 17,
   "metadata": {},
   "outputs": [],
   "source": [
    "# DPC + BF illumination\n",
    "\n",
    "xx, yy, fxx, fyy = wo.gen_coordinate((N, M), ps)\n",
    "Pupil_obj = wo.gen_Pupil(fxx, fyy, NA_obj/n_media, lambda_illu/n_media)\n",
    "Source_support = wo.gen_Pupil(fxx, fyy, NA_illu/n_media, lambda_illu/n_media)\n",
    "\n",
    "NAx_coord = lambda_illu/n_media*fxx\n",
    "NAy_coord = lambda_illu/n_media*fyy\n",
    "\n",
    "\n",
    "rotation_angle=[0, 45, 90, 135, 180, 225, 270, 315]\n",
    "\n",
    "\n",
    "Source = np.zeros((len(rotation_angle)+1, N, M))\n",
    "Source_cont = np.zeros_like(Source)\n",
    "\n",
    "Source_BF = wo.gen_Pupil(fxx, fyy, NA_illu/n_media/2, lambda_illu/n_media)\n",
    "Source_cont[-1] = Source_BF.copy()\n",
    "Source[-1] = wo.Source_subsample(Source_BF, NAx_coord, NAy_coord, subsampled_NA = 0.1/n_media)\n",
    "\n",
    "\n",
    "for i in range(len(rotation_angle)):\n",
    "    deg = rotation_angle[i]\n",
    "    Source_temp = np.zeros((N,M))\n",
    "    Source_temp2 = np.zeros((N,M))\n",
    "    Source_temp[fyy * np.cos(np.deg2rad(deg-22.5)) - fxx*np.sin(np.deg2rad(deg-22.5)) > 1e-10] = 1\n",
    "    Source_temp2[fyy * np.cos(np.deg2rad(deg-135-22.5)) - fxx*np.sin(np.deg2rad(deg-135-22.5)) > 1e-10] = 1\n",
    "    Source_cont[i] = Source_temp * Source_temp2 * Source_support \n",
    "    Source_discrete = wo.Source_subsample(Source_temp * Source_temp2 * Source_support, NAx_coord, NAy_coord, subsampled_NA = 0.1/n_media)\n",
    "    Source[i] = np.maximum(0,Source_discrete.copy())\n",
    "    \n"
   ]
  },
  {
   "cell_type": "code",
   "execution_count": 27,
   "metadata": {},
   "outputs": [],
   "source": [
    "# DPC + BF illumination\n",
    "\n",
    "xx, yy, fxx, fyy = wo.gen_coordinate((N, M), ps)\n",
    "Pupil_obj = wo.gen_Pupil(fxx, fyy, NA_obj/n_media, lambda_illu/n_media)\n",
    "Source_support = wo.gen_Pupil(fxx, fyy, NA_illu/n_media, lambda_illu/n_media)\n",
    "\n",
    "NAx_coord = lambda_illu/n_media*fxx\n",
    "NAy_coord = lambda_illu/n_media*fyy\n",
    "\n",
    "\n",
    "rotation_angle=[0, 22.5, 45, 67.5, 90, 112.5, 135, 157.5, 180, 202.5, 225, 247.5, 270, 292.5, 315, 337.5]\n",
    "\n",
    "\n",
    "Source = np.zeros((len(rotation_angle)+1, N, M))\n",
    "Source_cont = np.zeros_like(Source)\n",
    "\n",
    "Source_BF = wo.gen_Pupil(fxx, fyy, NA_illu/n_media/2, lambda_illu/n_media)\n",
    "Source_cont[-1] = Source_BF.copy()\n",
    "Source[-1] = wo.Source_subsample(Source_BF, NAx_coord, NAy_coord, subsampled_NA = 0.06/n_media)\n",
    "\n",
    "\n",
    "for i in range(len(rotation_angle)):\n",
    "    deg = rotation_angle[i]\n",
    "    Source_temp = np.zeros((N,M))\n",
    "    Source_temp2 = np.zeros((N,M))\n",
    "    Source_temp[fyy * np.cos(np.deg2rad(deg-11.25)) - fxx*np.sin(np.deg2rad(deg-11.25)) > 1e-10] = 1\n",
    "    Source_temp2[fyy * np.cos(np.deg2rad(deg-157.5-11.25)) - fxx*np.sin(np.deg2rad(deg-157.5-11.25)) > 1e-10] = 1\n",
    "    Source_cont[i] = Source_temp * Source_temp2 * Source_support\n",
    "    Source_discrete = wo.Source_subsample(Source_temp * Source_temp2 * Source_support, NAx_coord, NAy_coord, subsampled_NA = 0.06/n_media)\n",
    "    Source[i] = np.maximum(0,Source_discrete.copy())\n",
    "    \n"
   ]
  },
  {
   "cell_type": "code",
   "execution_count": 18,
   "metadata": {},
   "outputs": [
    {
     "data": {
      "application/vnd.jupyter.widget-view+json": {
       "model_id": "6f9f48bb7b3f41238193d3edba85b09f",
       "version_major": 2,
       "version_minor": 0
      },
      "text/plain": [
       "interactive(children=(IntSlider(value=0, description='stack_idx', max=16), Output()), _dom_classes=('widget-in…"
      ]
     },
     "metadata": {},
     "output_type": "display_data"
    },
    {
     "data": {
      "text/plain": [
       "<function waveorder.visual.image_stack_viewer.<locals>.interact_plot_3D(stack_idx)>"
      ]
     },
     "execution_count": 18,
     "metadata": {},
     "output_type": "execute_result"
    }
   ],
   "source": [
    "wo.image_stack_viewer(fftshift(Source,axes=(1,2)), origin='lower')"
   ]
  },
  {
   "cell_type": "code",
   "execution_count": 19,
   "metadata": {},
   "outputs": [
    {
     "data": {
      "text/plain": [
       "array([20., 19., 20., 19., 20., 19., 20., 19., 20., 21., 20., 21., 20.,\n",
       "       21., 20., 21., 49.])"
      ]
     },
     "execution_count": 19,
     "metadata": {},
     "output_type": "execute_result"
    },
    {
     "data": {
      "image/png": "[encoded data removed]",
      "text/plain": [
       "<Figure size 720x720 with 1 Axes>"
      ]
     },
     "metadata": {
      "needs_background": "dark"
     },
     "output_type": "display_data"
    }
   ],
   "source": [
    "plt.figure(figsize=(10,10))\n",
    "plt.imshow(fftshift(np.sum(Source,axis=0)), origin='lower')\n",
    "np.sum(Source,axis=(1,2))"
   ]
  },
  {
   "cell_type": "code",
   "execution_count": 20,
   "metadata": {},
   "outputs": [],
   "source": [
    "setup = wo.waveorder_microscopy((N,M), lambda_illu, ps, NA_obj, NA_illu, z_defocus, chi, \\\n",
    "                                n_media = n_media, inc_recon='3D', phase_deconv='3D', illu_mode = 'Arbitrary', Source=Source_cont, use_gpu=use_gpu, gpu_id=gpu_id)\n",
    "\n",
    "simulator = wo.waveorder_microscopy_simulator((N,M), lambda_illu, ps, NA_obj, NA_illu, z_defocus, chi, \\\n",
    "                                n_media = n_media, illu_mode = 'Arbitrary', Source=Source, use_gpu=use_gpu, gpu_id=gpu_id)\n"
   ]
  },
  {
   "cell_type": "code",
   "execution_count": 15,
   "metadata": {},
   "outputs": [],
   "source": [
    "import gc\n",
    "import cupy as cp\n",
    "\n",
    "gc.collect()\n",
    "cp.get_default_memory_pool().free_all_blocks()"
   ]
  },
  {
   "cell_type": "code",
   "execution_count": 21,
   "metadata": {},
   "outputs": [
    {
     "data": {
      "application/vnd.jupyter.widget-view+json": {
       "model_id": "fb42accb25f14b7186b7ef5dca4c671b",
       "version_major": 2,
       "version_minor": 0
      },
      "text/plain": [
       "interactive(children=(IntSlider(value=0, description='stack_idx', max=16), Output()), _dom_classes=('widget-in…"
      ]
     },
     "metadata": {},
     "output_type": "display_data"
    },
    {
     "data": {
      "text/plain": [
       "<function waveorder.visual.parallel_4D_viewer.<locals>.interact_plot(stack_idx)>"
      ]
     },
     "execution_count": 21,
     "metadata": {},
     "output_type": "execute_result"
    }
   ],
   "source": [
    "## Plotting phase and absorption transfer function (vectorial OTF not included)\n",
    "\n",
    "z_idx = L//2\n",
    "\n",
    "if setup.H_re.ndim == 3:\n",
    "    H_re = setup.H_re[np.newaxis,:,:,:]\n",
    "    H_im = setup.H_im[np.newaxis,:,:,:]\n",
    "\n",
    "else:\n",
    "    H_re = setup.H_re\n",
    "    H_im = setup.H_im\n",
    "\n",
    "wo.parallel_4D_viewer(np.transpose(np.stack([np.real(fftshift(H_re,axes=(1,2,3))[:,:,:,z_idx]), \n",
    "                                             np.imag(fftshift(H_re,axes=(1,2,3))[:,:,:,z_idx]),\n",
    "                                             np.real(fftshift(H_im,axes=(1,2,3))[:,:,:,z_idx]),\n",
    "                                             np.imag(fftshift(H_im,axes=(1,2,3))[:,:,:,z_idx])]),(1,0,2,3)), num_col=4, size=5, colormap='jet', origin='lower')"
   ]
  },
  {
   "cell_type": "code",
   "execution_count": 22,
   "metadata": {},
   "outputs": [
    {
     "data": {
      "application/vnd.jupyter.widget-view+json": {
       "model_id": "0de07d711e1242659cbc947afdec2db2",
       "version_major": 2,
       "version_minor": 0
      },
      "text/plain": [
       "interactive(children=(IntSlider(value=0, description='stack_idx', max=16), Output()), _dom_classes=('widget-in…"
      ]
     },
     "metadata": {},
     "output_type": "display_data"
    },
    {
     "data": {
      "text/plain": [
       "<function waveorder.visual.parallel_4D_viewer.<locals>.interact_plot(stack_idx)>"
      ]
     },
     "execution_count": 22,
     "metadata": {},
     "output_type": "execute_result"
    }
   ],
   "source": [
    "\n",
    "wo.parallel_4D_viewer(np.transpose(np.stack([np.real(fftshift(H_re,axes=(1,2,3))[:,N//2,:,:]), \n",
    "                                             np.imag(fftshift(H_re,axes=(1,2,3))[:,N//2,:,:]),\n",
    "                                             np.real(fftshift(H_im,axes=(1,2,3))[:,N//2,:,:]),\n",
    "                                             np.imag(fftshift(H_im,axes=(1,2,3))[:,N//2,:,:])]),(1,0,3,2)), num_col=4, size=5, colormap='jet', origin='lower')"
   ]
  },
  {
   "cell_type": "code",
   "execution_count": 23,
   "metadata": {},
   "outputs": [],
   "source": [
    "z_idx = L//2\n",
    "plot_list = []\n",
    "plot_list_xz = []\n",
    "for i in range(3):\n",
    "    for j in range(7):\n",
    "        OTF_fftshift = fftshift(setup.H_dyadic_OTF[i,j],axes=(1,2,3))\n",
    "        \n",
    "        plot_list.append(np.real(OTF_fftshift[:,:,:,z_idx]))\n",
    "        plot_list.append(np.imag(OTF_fftshift[:,:,:,z_idx]))\n",
    "        plot_list_xz.append(np.real(OTF_fftshift[:,N//2,:,:]))\n",
    "        plot_list_xz.append(np.imag(OTF_fftshift[:,N//2,:,:]))"
   ]
  },
  {
   "cell_type": "code",
   "execution_count": 24,
   "metadata": {},
   "outputs": [
    {
     "data": {
      "application/vnd.jupyter.widget-view+json": {
       "model_id": "0aed66c8ca4d47cabd15ea1a048b5eb5",
       "version_major": 2,
       "version_minor": 0
      },
      "text/plain": [
       "interactive(children=(IntSlider(value=0, description='stack_idx', max=16), Output()), _dom_classes=('widget-in…"
      ]
     },
     "metadata": {},
     "output_type": "display_data"
    },
    {
     "data": {
      "text/plain": [
       "<function waveorder.visual.parallel_4D_viewer.<locals>.interact_plot(stack_idx)>"
      ]
     },
     "execution_count": 24,
     "metadata": {},
     "output_type": "execute_result"
    }
   ],
   "source": [
    "wo.parallel_4D_viewer(np.transpose(np.stack(plot_list), (1,0,2,3)), num_col=4, size=5, colormap='jet', origin='lower')"
   ]
  },
  {
   "cell_type": "code",
   "execution_count": 25,
   "metadata": {},
   "outputs": [
    {
     "data": {
      "application/vnd.jupyter.widget-view+json": {
       "model_id": "ff03fda422d34ea89ce65a2a3352d940",
       "version_major": 2,
       "version_minor": 0
      },
      "text/plain": [
       "interactive(children=(IntSlider(value=0, description='stack_idx', max=16), Output()), _dom_classes=('widget-in…"
      ]
     },
     "metadata": {},
     "output_type": "display_data"
    },
    {
     "data": {
      "text/plain": [
       "<function waveorder.visual.parallel_4D_viewer.<locals>.interact_plot(stack_idx)>"
      ]
     },
     "execution_count": 25,
     "metadata": {},
     "output_type": "execute_result"
    }
   ],
   "source": [
    "wo.parallel_4D_viewer(np.transpose(np.stack(plot_list_xz), (1,0,3,2)), num_col=4, size=5, colormap='jet', origin='lower')"
   ]
  },
  {
   "cell_type": "code",
   "execution_count": 26,
   "metadata": {},
   "outputs": [
    {
     "name": "stdout",
     "output_type": "stream",
     "text": [
      "Number of point sources considered (1 / 20) in pattern (1 / 17), elapsed time: 1.30\n",
      "Number of point sources considered (2 / 20) in pattern (1 / 17), elapsed time: 2.24\n",
      "Number of point sources considered (3 / 20) in pattern (1 / 17), elapsed time: 3.06\n",
      "Number of point sources considered (4 / 20) in pattern (1 / 17), elapsed time: 3.92\n",
      "Number of point sources considered (5 / 20) in pattern (1 / 17), elapsed time: 4.83\n",
      "Number of point sources considered (6 / 20) in pattern (1 / 17), elapsed time: 5.69\n",
      "Number of point sources considered (7 / 20) in pattern (1 / 17), elapsed time: 6.51\n",
      "Number of point sources considered (8 / 20) in pattern (1 / 17), elapsed time: 7.43\n",
      "Number of point sources considered (9 / 20) in pattern (1 / 17), elapsed time: 8.33\n",
      "Number of point sources considered (10 / 20) in pattern (1 / 17), elapsed time: 9.18\n",
      "Number of point sources considered (11 / 20) in pattern (1 / 17), elapsed time: 10.06\n",
      "Number of point sources considered (12 / 20) in pattern (1 / 17), elapsed time: 10.97\n",
      "Number of point sources considered (13 / 20) in pattern (1 / 17), elapsed time: 11.79\n",
      "Number of point sources considered (14 / 20) in pattern (1 / 17), elapsed time: 12.63\n",
      "Number of point sources considered (15 / 20) in pattern (1 / 17), elapsed time: 13.51\n",
      "Number of point sources considered (16 / 20) in pattern (1 / 17), elapsed time: 14.33\n",
      "Number of point sources considered (17 / 20) in pattern (1 / 17), elapsed time: 15.18\n",
      "Number of point sources considered (18 / 20) in pattern (1 / 17), elapsed time: 16.08\n",
      "Number of point sources considered (19 / 20) in pattern (1 / 17), elapsed time: 16.90\n",
      "Number of point sources considered (20 / 20) in pattern (1 / 17), elapsed time: 17.72\n",
      "Number of point sources considered (1 / 19) in pattern (2 / 17), elapsed time: 18.71\n",
      "Number of point sources considered (2 / 19) in pattern (2 / 17), elapsed time: 19.52\n",
      "Number of point sources considered (3 / 19) in pattern (2 / 17), elapsed time: 20.34\n",
      "Number of point sources considered (4 / 19) in pattern (2 / 17), elapsed time: 21.23\n",
      "Number of point sources considered (5 / 19) in pattern (2 / 17), elapsed time: 22.13\n",
      "Number of point sources considered (6 / 19) in pattern (2 / 17), elapsed time: 22.95\n",
      "Number of point sources considered (7 / 19) in pattern (2 / 17), elapsed time: 23.84\n",
      "Number of point sources considered (8 / 19) in pattern (2 / 17), elapsed time: 24.74\n",
      "Number of point sources considered (9 / 19) in pattern (2 / 17), elapsed time: 25.57\n",
      "Number of point sources considered (10 / 19) in pattern (2 / 17), elapsed time: 26.39\n",
      "Number of point sources considered (11 / 19) in pattern (2 / 17), elapsed time: 27.27\n",
      "Number of point sources considered (12 / 19) in pattern (2 / 17), elapsed time: 28.08\n",
      "Number of point sources considered (13 / 19) in pattern (2 / 17), elapsed time: 28.90\n",
      "Number of point sources considered (14 / 19) in pattern (2 / 17), elapsed time: 29.87\n",
      "Number of point sources considered (15 / 19) in pattern (2 / 17), elapsed time: 30.80\n",
      "Number of point sources considered (16 / 19) in pattern (2 / 17), elapsed time: 31.62\n",
      "Number of point sources considered (17 / 19) in pattern (2 / 17), elapsed time: 32.53\n",
      "Number of point sources considered (18 / 19) in pattern (2 / 17), elapsed time: 33.43\n",
      "Number of point sources considered (19 / 19) in pattern (2 / 17), elapsed time: 34.25\n",
      "Number of point sources considered (1 / 20) in pattern (3 / 17), elapsed time: 35.24\n",
      "Number of point sources considered (2 / 20) in pattern (3 / 17), elapsed time: 36.16\n",
      "Number of point sources considered (3 / 20) in pattern (3 / 17), elapsed time: 37.07\n",
      "Number of point sources considered (4 / 20) in pattern (3 / 17), elapsed time: 37.89\n",
      "Number of point sources considered (5 / 20) in pattern (3 / 17), elapsed time: 38.75\n",
      "Number of point sources considered (6 / 20) in pattern (3 / 17), elapsed time: 39.66\n",
      "Number of point sources considered (7 / 20) in pattern (3 / 17), elapsed time: 40.51\n",
      "Number of point sources considered (8 / 20) in pattern (3 / 17), elapsed time: 41.32\n",
      "Number of point sources considered (9 / 20) in pattern (3 / 17), elapsed time: 42.23\n",
      "Number of point sources considered (10 / 20) in pattern (3 / 17), elapsed time: 43.05\n",
      "Number of point sources considered (11 / 20) in pattern (3 / 17), elapsed time: 43.86\n",
      "Number of point sources considered (12 / 20) in pattern (3 / 17), elapsed time: 44.75\n",
      "Number of point sources considered (13 / 20) in pattern (3 / 17), elapsed time: 45.67\n",
      "Number of point sources considered (14 / 20) in pattern (3 / 17), elapsed time: 46.49\n",
      "Number of point sources considered (15 / 20) in pattern (3 / 17), elapsed time: 47.35\n",
      "Number of point sources considered (16 / 20) in pattern (3 / 17), elapsed time: 48.27\n",
      "Number of point sources considered (17 / 20) in pattern (3 / 17), elapsed time: 49.09\n",
      "Number of point sources considered (18 / 20) in pattern (3 / 17), elapsed time: 49.99\n",
      "Number of point sources considered (19 / 20) in pattern (3 / 17), elapsed time: 50.90\n",
      "Number of point sources considered (20 / 20) in pattern (3 / 17), elapsed time: 51.71\n",
      "Number of point sources considered (1 / 19) in pattern (4 / 17), elapsed time: 52.62\n",
      "Number of point sources considered (2 / 19) in pattern (4 / 17), elapsed time: 53.50\n",
      "Number of point sources considered (3 / 19) in pattern (4 / 17), elapsed time: 54.31\n",
      "Number of point sources considered (4 / 19) in pattern (4 / 17), elapsed time: 55.13\n",
      "Number of point sources considered (5 / 19) in pattern (4 / 17), elapsed time: 56.05\n",
      "Number of point sources considered (6 / 19) in pattern (4 / 17), elapsed time: 56.94\n",
      "Number of point sources considered (7 / 19) in pattern (4 / 17), elapsed time: 57.76\n",
      "Number of point sources considered (8 / 19) in pattern (4 / 17), elapsed time: 58.65\n",
      "Number of point sources considered (9 / 19) in pattern (4 / 17), elapsed time: 59.55\n",
      "Number of point sources considered (10 / 19) in pattern (4 / 17), elapsed time: 60.37\n",
      "Number of point sources considered (11 / 19) in pattern (4 / 17), elapsed time: 61.22\n",
      "Number of point sources considered (12 / 19) in pattern (4 / 17), elapsed time: 62.11\n",
      "Number of point sources considered (13 / 19) in pattern (4 / 17), elapsed time: 62.93\n",
      "Number of point sources considered (14 / 19) in pattern (4 / 17), elapsed time: 63.77\n",
      "Number of point sources considered (15 / 19) in pattern (4 / 17), elapsed time: 64.68\n",
      "Number of point sources considered (16 / 19) in pattern (4 / 17), elapsed time: 65.59\n",
      "Number of point sources considered (17 / 19) in pattern (4 / 17), elapsed time: 66.46\n",
      "Number of point sources considered (18 / 19) in pattern (4 / 17), elapsed time: 67.35\n",
      "Number of point sources considered (19 / 19) in pattern (4 / 17), elapsed time: 68.25\n",
      "Number of point sources considered (1 / 20) in pattern (5 / 17), elapsed time: 69.17\n",
      "Number of point sources considered (2 / 20) in pattern (5 / 17), elapsed time: 69.99\n",
      "Number of point sources considered (3 / 20) in pattern (5 / 17), elapsed time: 70.86\n",
      "Number of point sources considered (4 / 20) in pattern (5 / 17), elapsed time: 71.80\n",
      "Number of point sources considered (5 / 20) in pattern (5 / 17), elapsed time: 72.62\n",
      "Number of point sources considered (6 / 20) in pattern (5 / 17), elapsed time: 73.54\n",
      "Number of point sources considered (7 / 20) in pattern (5 / 17), elapsed time: 74.46\n",
      "Number of point sources considered (8 / 20) in pattern (5 / 17), elapsed time: 75.28\n",
      "Number of point sources considered (9 / 20) in pattern (5 / 17), elapsed time: 76.10\n",
      "Number of point sources considered (10 / 20) in pattern (5 / 17), elapsed time: 77.03\n",
      "Number of point sources considered (11 / 20) in pattern (5 / 17), elapsed time: 77.85\n",
      "Number of point sources considered (12 / 20) in pattern (5 / 17), elapsed time: 78.66\n",
      "Number of point sources considered (13 / 20) in pattern (5 / 17), elapsed time: 79.58\n",
      "Number of point sources considered (14 / 20) in pattern (5 / 17), elapsed time: 80.50\n",
      "Number of point sources considered (15 / 20) in pattern (5 / 17), elapsed time: 81.32\n",
      "Number of point sources considered (16 / 20) in pattern (5 / 17), elapsed time: 82.28\n",
      "Number of point sources considered (17 / 20) in pattern (5 / 17), elapsed time: 83.19\n",
      "Number of point sources considered (18 / 20) in pattern (5 / 17), elapsed time: 84.01\n",
      "Number of point sources considered (19 / 20) in pattern (5 / 17), elapsed time: 84.83\n",
      "Number of point sources considered (20 / 20) in pattern (5 / 17), elapsed time: 85.72\n",
      "Number of point sources considered (1 / 19) in pattern (6 / 17), elapsed time: 86.63\n",
      "Number of point sources considered (2 / 19) in pattern (6 / 17), elapsed time: 87.49\n",
      "Number of point sources considered (3 / 19) in pattern (6 / 17), elapsed time: 88.41\n",
      "Number of point sources considered (4 / 19) in pattern (6 / 17), elapsed time: 89.32\n",
      "Number of point sources considered (5 / 19) in pattern (6 / 17), elapsed time: 90.14\n",
      "Number of point sources considered (6 / 19) in pattern (6 / 17), elapsed time: 90.96\n",
      "Number of point sources considered (7 / 19) in pattern (6 / 17), elapsed time: 91.87\n",
      "Number of point sources considered (8 / 19) in pattern (6 / 17), elapsed time: 92.72\n",
      "Number of point sources considered (9 / 19) in pattern (6 / 17), elapsed time: 93.55\n",
      "Number of point sources considered (10 / 19) in pattern (6 / 17), elapsed time: 94.47\n",
      "Number of point sources considered (11 / 19) in pattern (6 / 17), elapsed time: 95.37\n",
      "Number of point sources considered (12 / 19) in pattern (6 / 17), elapsed time: 96.19\n",
      "Number of point sources considered (13 / 19) in pattern (6 / 17), elapsed time: 97.09\n",
      "Number of point sources considered (14 / 19) in pattern (6 / 17), elapsed time: 98.03\n",
      "Number of point sources considered (15 / 19) in pattern (6 / 17), elapsed time: 98.85\n",
      "Number of point sources considered (16 / 19) in pattern (6 / 17), elapsed time: 99.67\n",
      "Number of point sources considered (17 / 19) in pattern (6 / 17), elapsed time: 100.57\n",
      "Number of point sources considered (18 / 19) in pattern (6 / 17), elapsed time: 101.39\n",
      "Number of point sources considered (19 / 19) in pattern (6 / 17), elapsed time: 102.22\n",
      "Number of point sources considered (1 / 20) in pattern (7 / 17), elapsed time: 103.29\n",
      "Number of point sources considered (2 / 20) in pattern (7 / 17), elapsed time: 104.18\n",
      "Number of point sources considered (3 / 20) in pattern (7 / 17), elapsed time: 104.99\n",
      "Number of point sources considered (4 / 20) in pattern (7 / 17), elapsed time: 105.81\n",
      "Number of point sources considered (5 / 20) in pattern (7 / 17), elapsed time: 106.72\n",
      "Number of point sources considered (6 / 20) in pattern (7 / 17), elapsed time: 107.54\n",
      "Number of point sources considered (7 / 20) in pattern (7 / 17), elapsed time: 108.40\n",
      "Number of point sources considered (8 / 20) in pattern (7 / 17), elapsed time: 109.32\n",
      "Number of point sources considered (9 / 20) in pattern (7 / 17), elapsed time: 110.14\n",
      "Number of point sources considered (10 / 20) in pattern (7 / 17), elapsed time: 110.95\n",
      "Number of point sources considered (11 / 20) in pattern (7 / 17), elapsed time: 111.86\n",
      "Number of point sources considered (12 / 20) in pattern (7 / 17), elapsed time: 112.68\n",
      "Number of point sources considered (13 / 20) in pattern (7 / 17), elapsed time: 113.53\n",
      "Number of point sources considered (14 / 20) in pattern (7 / 17), elapsed time: 114.41\n",
      "Number of point sources considered (15 / 20) in pattern (7 / 17), elapsed time: 115.32\n",
      "Number of point sources considered (16 / 20) in pattern (7 / 17), elapsed time: 116.13\n",
      "Number of point sources considered (17 / 20) in pattern (7 / 17), elapsed time: 117.02\n",
      "Number of point sources considered (18 / 20) in pattern (7 / 17), elapsed time: 117.93\n",
      "Number of point sources considered (19 / 20) in pattern (7 / 17), elapsed time: 118.78\n",
      "Number of point sources considered (20 / 20) in pattern (7 / 17), elapsed time: 119.60\n",
      "Number of point sources considered (1 / 19) in pattern (8 / 17), elapsed time: 120.61\n",
      "Number of point sources considered (2 / 19) in pattern (8 / 17), elapsed time: 121.53\n",
      "Number of point sources considered (3 / 19) in pattern (8 / 17), elapsed time: 122.34\n",
      "Number of point sources considered (4 / 19) in pattern (8 / 17), elapsed time: 123.24\n",
      "Number of point sources considered (5 / 19) in pattern (8 / 17), elapsed time: 124.16\n",
      "Number of point sources considered (6 / 19) in pattern (8 / 17), elapsed time: 124.98\n",
      "Number of point sources considered (7 / 19) in pattern (8 / 17), elapsed time: 125.79\n",
      "Number of point sources considered (8 / 19) in pattern (8 / 17), elapsed time: 126.70\n",
      "Number of point sources considered (9 / 19) in pattern (8 / 17), elapsed time: 127.51\n",
      "Number of point sources considered (10 / 19) in pattern (8 / 17), elapsed time: 128.33\n",
      "Number of point sources considered (11 / 19) in pattern (8 / 17), elapsed time: 129.30\n",
      "Number of point sources considered (12 / 19) in pattern (8 / 17), elapsed time: 130.20\n",
      "Number of point sources considered (13 / 19) in pattern (8 / 17), elapsed time: 131.02\n",
      "Number of point sources considered (14 / 19) in pattern (8 / 17), elapsed time: 131.91\n",
      "Number of point sources considered (15 / 19) in pattern (8 / 17), elapsed time: 132.79\n",
      "Number of point sources considered (16 / 19) in pattern (8 / 17), elapsed time: 133.61\n",
      "Number of point sources considered (17 / 19) in pattern (8 / 17), elapsed time: 134.57\n",
      "Number of point sources considered (18 / 19) in pattern (8 / 17), elapsed time: 135.47\n",
      "Number of point sources considered (19 / 19) in pattern (8 / 17), elapsed time: 136.29\n",
      "Number of point sources considered (1 / 20) in pattern (9 / 17), elapsed time: 137.20\n",
      "Number of point sources considered (2 / 20) in pattern (9 / 17), elapsed time: 138.09\n",
      "Number of point sources considered (3 / 20) in pattern (9 / 17), elapsed time: 139.00\n",
      "Number of point sources considered (4 / 20) in pattern (9 / 17), elapsed time: 139.86\n",
      "Number of point sources considered (5 / 20) in pattern (9 / 17), elapsed time: 140.77\n",
      "Number of point sources considered (6 / 20) in pattern (9 / 17), elapsed time: 141.68\n",
      "Number of point sources considered (7 / 20) in pattern (9 / 17), elapsed time: 142.50\n",
      "Number of point sources considered (8 / 20) in pattern (9 / 17), elapsed time: 143.31\n",
      "Number of point sources considered (9 / 20) in pattern (9 / 17), elapsed time: 144.23\n",
      "Number of point sources considered (10 / 20) in pattern (9 / 17), elapsed time: 145.16\n",
      "Number of point sources considered (11 / 20) in pattern (9 / 17), elapsed time: 145.98\n",
      "Number of point sources considered (12 / 20) in pattern (9 / 17), elapsed time: 146.85\n",
      "Number of point sources considered (13 / 20) in pattern (9 / 17), elapsed time: 147.75\n",
      "Number of point sources considered (14 / 20) in pattern (9 / 17), elapsed time: 148.57\n",
      "Number of point sources considered (15 / 20) in pattern (9 / 17), elapsed time: 149.47\n",
      "Number of point sources considered (16 / 20) in pattern (9 / 17), elapsed time: 150.40\n",
      "Number of point sources considered (17 / 20) in pattern (9 / 17), elapsed time: 151.22\n",
      "Number of point sources considered (18 / 20) in pattern (9 / 17), elapsed time: 152.04\n",
      "Number of point sources considered (19 / 20) in pattern (9 / 17), elapsed time: 152.92\n",
      "Number of point sources considered (20 / 20) in pattern (9 / 17), elapsed time: 153.75\n",
      "Number of point sources considered (1 / 21) in pattern (10 / 17), elapsed time: 154.66\n",
      "Number of point sources considered (2 / 21) in pattern (10 / 17), elapsed time: 155.60\n",
      "Number of point sources considered (3 / 21) in pattern (10 / 17), elapsed time: 156.52\n",
      "Number of point sources considered (4 / 21) in pattern (10 / 17), elapsed time: 157.34\n",
      "Number of point sources considered (5 / 21) in pattern (10 / 17), elapsed time: 158.16\n",
      "Number of point sources considered (6 / 21) in pattern (10 / 17), elapsed time: 159.07\n",
      "Number of point sources considered (7 / 21) in pattern (10 / 17), elapsed time: 159.89\n",
      "Number of point sources considered (8 / 21) in pattern (10 / 17), elapsed time: 160.74\n",
      "Number of point sources considered (9 / 21) in pattern (10 / 17), elapsed time: 161.62\n",
      "Number of point sources considered (10 / 21) in pattern (10 / 17), elapsed time: 162.44\n",
      "Number of point sources considered (11 / 21) in pattern (10 / 17), elapsed time: 163.25\n",
      "Number of point sources considered (12 / 21) in pattern (10 / 17), elapsed time: 164.15\n",
      "Number of point sources considered (13 / 21) in pattern (10 / 17), elapsed time: 164.97\n",
      "Number of point sources considered (14 / 21) in pattern (10 / 17), elapsed time: 165.82\n",
      "Number of point sources considered (15 / 21) in pattern (10 / 17), elapsed time: 166.72\n",
      "Number of point sources considered (16 / 21) in pattern (10 / 17), elapsed time: 167.59\n",
      "Number of point sources considered (17 / 21) in pattern (10 / 17), elapsed time: 168.41\n",
      "Number of point sources considered (18 / 21) in pattern (10 / 17), elapsed time: 169.29\n",
      "Number of point sources considered (19 / 21) in pattern (10 / 17), elapsed time: 170.20\n",
      "Number of point sources considered (20 / 21) in pattern (10 / 17), elapsed time: 171.06\n",
      "Number of point sources considered (21 / 21) in pattern (10 / 17), elapsed time: 171.87\n",
      "Number of point sources considered (1 / 20) in pattern (11 / 17), elapsed time: 172.84\n",
      "Number of point sources considered (2 / 20) in pattern (11 / 17), elapsed time: 173.65\n",
      "Number of point sources considered (3 / 20) in pattern (11 / 17), elapsed time: 174.47\n",
      "Number of point sources considered (4 / 20) in pattern (11 / 17), elapsed time: 175.35\n",
      "Number of point sources considered (5 / 20) in pattern (11 / 17), elapsed time: 176.25\n",
      "Number of point sources considered (6 / 20) in pattern (11 / 17), elapsed time: 177.07\n",
      "Number of point sources considered (7 / 20) in pattern (11 / 17), elapsed time: 177.97\n",
      "Number of point sources considered (8 / 20) in pattern (11 / 17), elapsed time: 178.85\n",
      "Number of point sources considered (9 / 20) in pattern (11 / 17), elapsed time: 179.67\n",
      "Number of point sources considered (10 / 20) in pattern (11 / 17), elapsed time: 180.52\n",
      "Number of point sources considered (11 / 20) in pattern (11 / 17), elapsed time: 181.45\n",
      "Number of point sources considered (12 / 20) in pattern (11 / 17), elapsed time: 182.26\n",
      "Number of point sources considered (13 / 20) in pattern (11 / 17), elapsed time: 183.07\n",
      "Number of point sources considered (14 / 20) in pattern (11 / 17), elapsed time: 183.97\n",
      "Number of point sources considered (15 / 20) in pattern (11 / 17), elapsed time: 184.79\n",
      "Number of point sources considered (16 / 20) in pattern (11 / 17), elapsed time: 185.61\n",
      "Number of point sources considered (17 / 20) in pattern (11 / 17), elapsed time: 186.56\n",
      "Number of point sources considered (18 / 20) in pattern (11 / 17), elapsed time: 187.48\n",
      "Number of point sources considered (19 / 20) in pattern (11 / 17), elapsed time: 188.29\n",
      "Number of point sources considered (20 / 20) in pattern (11 / 17), elapsed time: 189.16\n",
      "Number of point sources considered (1 / 21) in pattern (12 / 17), elapsed time: 190.16\n",
      "Number of point sources considered (2 / 21) in pattern (12 / 17), elapsed time: 190.99\n",
      "Number of point sources considered (3 / 21) in pattern (12 / 17), elapsed time: 191.87\n",
      "Number of point sources considered (4 / 21) in pattern (12 / 17), elapsed time: 192.85\n",
      "Number of point sources considered (5 / 21) in pattern (12 / 17), elapsed time: 193.83\n",
      "Number of point sources considered (6 / 21) in pattern (12 / 17), elapsed time: 194.73\n",
      "Number of point sources considered (7 / 21) in pattern (12 / 17), elapsed time: 195.61\n",
      "Number of point sources considered (8 / 21) in pattern (12 / 17), elapsed time: 196.51\n",
      "Number of point sources considered (9 / 21) in pattern (12 / 17), elapsed time: 197.45\n",
      "Number of point sources considered (10 / 21) in pattern (12 / 17), elapsed time: 198.26\n",
      "Number of point sources considered (11 / 21) in pattern (12 / 17), elapsed time: 199.15\n",
      "Number of point sources considered (12 / 21) in pattern (12 / 17), elapsed time: 200.06\n",
      "Number of point sources considered (13 / 21) in pattern (12 / 17), elapsed time: 200.88\n",
      "Number of point sources considered (14 / 21) in pattern (12 / 17), elapsed time: 201.76\n",
      "Number of point sources considered (15 / 21) in pattern (12 / 17), elapsed time: 202.68\n",
      "Number of point sources considered (16 / 21) in pattern (12 / 17), elapsed time: 203.56\n",
      "Number of point sources considered (17 / 21) in pattern (12 / 17), elapsed time: 204.38\n",
      "Number of point sources considered (18 / 21) in pattern (12 / 17), elapsed time: 205.28\n",
      "Number of point sources considered (19 / 21) in pattern (12 / 17), elapsed time: 206.18\n",
      "Number of point sources considered (20 / 21) in pattern (12 / 17), elapsed time: 207.00\n",
      "Number of point sources considered (21 / 21) in pattern (12 / 17), elapsed time: 207.89\n",
      "Number of point sources considered (1 / 20) in pattern (13 / 17), elapsed time: 208.91\n",
      "Number of point sources considered (2 / 20) in pattern (13 / 17), elapsed time: 209.73\n",
      "Number of point sources considered (3 / 20) in pattern (13 / 17), elapsed time: 210.55\n",
      "Number of point sources considered (4 / 20) in pattern (13 / 17), elapsed time: 211.42\n",
      "Number of point sources considered (5 / 20) in pattern (13 / 17), elapsed time: 212.25\n",
      "Number of point sources considered (6 / 20) in pattern (13 / 17), elapsed time: 213.07\n",
      "Number of point sources considered (7 / 20) in pattern (13 / 17), elapsed time: 214.01\n",
      "Number of point sources considered (8 / 20) in pattern (13 / 17), elapsed time: 214.93\n",
      "Number of point sources considered (9 / 20) in pattern (13 / 17), elapsed time: 215.75\n",
      "Number of point sources considered (10 / 20) in pattern (13 / 17), elapsed time: 216.63\n",
      "Number of point sources considered (11 / 20) in pattern (13 / 17), elapsed time: 217.54\n",
      "Number of point sources considered (12 / 20) in pattern (13 / 17), elapsed time: 218.36\n",
      "Number of point sources considered (13 / 20) in pattern (13 / 17), elapsed time: 219.22\n",
      "Number of point sources considered (14 / 20) in pattern (13 / 17), elapsed time: 220.14\n",
      "Number of point sources considered (15 / 20) in pattern (13 / 17), elapsed time: 221.05\n",
      "Number of point sources considered (16 / 20) in pattern (13 / 17), elapsed time: 221.86\n",
      "Number of point sources considered (17 / 20) in pattern (13 / 17), elapsed time: 222.75\n",
      "Number of point sources considered (18 / 20) in pattern (13 / 17), elapsed time: 223.67\n",
      "Number of point sources considered (19 / 20) in pattern (13 / 17), elapsed time: 224.49\n",
      "Number of point sources considered (20 / 20) in pattern (13 / 17), elapsed time: 225.35\n",
      "Number of point sources considered (1 / 21) in pattern (14 / 17), elapsed time: 226.35\n",
      "Number of point sources considered (2 / 21) in pattern (14 / 17), elapsed time: 227.17\n",
      "Number of point sources considered (3 / 21) in pattern (14 / 17), elapsed time: 227.99\n",
      "Number of point sources considered (4 / 21) in pattern (14 / 17), elapsed time: 228.91\n",
      "Number of point sources considered (5 / 21) in pattern (14 / 17), elapsed time: 229.82\n",
      "Number of point sources considered (6 / 21) in pattern (14 / 17), elapsed time: 230.68\n",
      "Number of point sources considered (7 / 21) in pattern (14 / 17), elapsed time: 231.58\n",
      "Number of point sources considered (8 / 21) in pattern (14 / 17), elapsed time: 232.48\n",
      "Number of point sources considered (9 / 21) in pattern (14 / 17), elapsed time: 233.30\n",
      "Number of point sources considered (10 / 21) in pattern (14 / 17), elapsed time: 234.12\n",
      "Number of point sources considered (11 / 21) in pattern (14 / 17), elapsed time: 235.01\n",
      "Number of point sources considered (12 / 21) in pattern (14 / 17), elapsed time: 235.95\n",
      "Number of point sources considered (13 / 21) in pattern (14 / 17), elapsed time: 236.77\n",
      "Number of point sources considered (14 / 21) in pattern (14 / 17), elapsed time: 237.65\n",
      "Number of point sources considered (15 / 21) in pattern (14 / 17), elapsed time: 238.55\n",
      "Number of point sources considered (16 / 21) in pattern (14 / 17), elapsed time: 239.37\n",
      "Number of point sources considered (17 / 21) in pattern (14 / 17), elapsed time: 240.25\n",
      "Number of point sources considered (18 / 21) in pattern (14 / 17), elapsed time: 241.20\n",
      "Number of point sources considered (19 / 21) in pattern (14 / 17), elapsed time: 242.03\n",
      "Number of point sources considered (20 / 21) in pattern (14 / 17), elapsed time: 242.84\n",
      "Number of point sources considered (21 / 21) in pattern (14 / 17), elapsed time: 243.74\n",
      "Number of point sources considered (1 / 20) in pattern (15 / 17), elapsed time: 244.66\n",
      "Number of point sources considered (2 / 20) in pattern (15 / 17), elapsed time: 245.48\n",
      "Number of point sources considered (3 / 20) in pattern (15 / 17), elapsed time: 246.39\n",
      "Number of point sources considered (4 / 20) in pattern (15 / 17), elapsed time: 247.37\n",
      "Number of point sources considered (5 / 20) in pattern (15 / 17), elapsed time: 248.19\n",
      "Number of point sources considered (6 / 20) in pattern (15 / 17), elapsed time: 249.01\n",
      "Number of point sources considered (7 / 20) in pattern (15 / 17), elapsed time: 249.93\n",
      "Number of point sources considered (8 / 20) in pattern (15 / 17), elapsed time: 250.74\n",
      "Number of point sources considered (9 / 20) in pattern (15 / 17), elapsed time: 251.56\n",
      "Number of point sources considered (10 / 20) in pattern (15 / 17), elapsed time: 252.48\n",
      "Number of point sources considered (11 / 20) in pattern (15 / 17), elapsed time: 253.39\n",
      "Number of point sources considered (12 / 20) in pattern (15 / 17), elapsed time: 254.21\n",
      "Number of point sources considered (13 / 20) in pattern (15 / 17), elapsed time: 255.10\n",
      "Number of point sources considered (14 / 20) in pattern (15 / 17), elapsed time: 256.01\n",
      "Number of point sources considered (15 / 20) in pattern (15 / 17), elapsed time: 256.82\n",
      "Number of point sources considered (16 / 20) in pattern (15 / 17), elapsed time: 257.77\n",
      "Number of point sources considered (17 / 20) in pattern (15 / 17), elapsed time: 258.66\n",
      "Number of point sources considered (18 / 20) in pattern (15 / 17), elapsed time: 259.48\n",
      "Number of point sources considered (19 / 20) in pattern (15 / 17), elapsed time: 260.30\n",
      "Number of point sources considered (20 / 20) in pattern (15 / 17), elapsed time: 261.19\n",
      "Number of point sources considered (1 / 21) in pattern (16 / 17), elapsed time: 262.10\n",
      "Number of point sources considered (2 / 21) in pattern (16 / 17), elapsed time: 262.96\n",
      "Number of point sources considered (3 / 21) in pattern (16 / 17), elapsed time: 263.87\n",
      "Number of point sources considered (4 / 21) in pattern (16 / 17), elapsed time: 264.78\n",
      "Number of point sources considered (5 / 21) in pattern (16 / 17), elapsed time: 265.59\n",
      "Number of point sources considered (6 / 21) in pattern (16 / 17), elapsed time: 266.41\n",
      "Number of point sources considered (7 / 21) in pattern (16 / 17), elapsed time: 267.31\n",
      "Number of point sources considered (8 / 21) in pattern (16 / 17), elapsed time: 268.12\n",
      "Number of point sources considered (9 / 21) in pattern (16 / 17), elapsed time: 268.98\n",
      "Number of point sources considered (10 / 21) in pattern (16 / 17), elapsed time: 269.89\n",
      "Number of point sources considered (11 / 21) in pattern (16 / 17), elapsed time: 270.81\n",
      "Number of point sources considered (12 / 21) in pattern (16 / 17), elapsed time: 271.62\n",
      "Number of point sources considered (13 / 21) in pattern (16 / 17), elapsed time: 272.53\n",
      "Number of point sources considered (14 / 21) in pattern (16 / 17), elapsed time: 273.44\n",
      "Number of point sources considered (15 / 21) in pattern (16 / 17), elapsed time: 274.31\n",
      "Number of point sources considered (16 / 21) in pattern (16 / 17), elapsed time: 275.18\n",
      "Number of point sources considered (17 / 21) in pattern (16 / 17), elapsed time: 276.11\n",
      "Number of point sources considered (18 / 21) in pattern (16 / 17), elapsed time: 277.01\n",
      "Number of point sources considered (19 / 21) in pattern (16 / 17), elapsed time: 277.84\n",
      "Number of point sources considered (20 / 21) in pattern (16 / 17), elapsed time: 278.70\n",
      "Number of point sources considered (21 / 21) in pattern (16 / 17), elapsed time: 279.64\n",
      "Number of point sources considered (1 / 49) in pattern (17 / 17), elapsed time: 280.54\n",
      "Number of point sources considered (2 / 49) in pattern (17 / 17), elapsed time: 281.35\n",
      "Number of point sources considered (3 / 49) in pattern (17 / 17), elapsed time: 282.26\n",
      "Number of point sources considered (4 / 49) in pattern (17 / 17), elapsed time: 283.08\n",
      "Number of point sources considered (5 / 49) in pattern (17 / 17), elapsed time: 283.89\n",
      "Number of point sources considered (6 / 49) in pattern (17 / 17), elapsed time: 284.84\n",
      "Number of point sources considered (7 / 49) in pattern (17 / 17), elapsed time: 285.74\n",
      "Number of point sources considered (8 / 49) in pattern (17 / 17), elapsed time: 286.56\n",
      "Number of point sources considered (9 / 49) in pattern (17 / 17), elapsed time: 287.47\n",
      "Number of point sources considered (10 / 49) in pattern (17 / 17), elapsed time: 288.36\n",
      "Number of point sources considered (11 / 49) in pattern (17 / 17), elapsed time: 289.17\n",
      "Number of point sources considered (12 / 49) in pattern (17 / 17), elapsed time: 290.00\n",
      "Number of point sources considered (13 / 49) in pattern (17 / 17), elapsed time: 290.92\n",
      "Number of point sources considered (14 / 49) in pattern (17 / 17), elapsed time: 291.74\n",
      "Number of point sources considered (15 / 49) in pattern (17 / 17), elapsed time: 292.56\n",
      "Number of point sources considered (16 / 49) in pattern (17 / 17), elapsed time: 293.43\n",
      "Number of point sources considered (17 / 49) in pattern (17 / 17), elapsed time: 294.25\n",
      "Number of point sources considered (18 / 49) in pattern (17 / 17), elapsed time: 295.07\n",
      "Number of point sources considered (19 / 49) in pattern (17 / 17), elapsed time: 296.01\n",
      "Number of point sources considered (20 / 49) in pattern (17 / 17), elapsed time: 296.93\n",
      "Number of point sources considered (21 / 49) in pattern (17 / 17), elapsed time: 297.74\n",
      "Number of point sources considered (22 / 49) in pattern (17 / 17), elapsed time: 298.63\n",
      "Number of point sources considered (23 / 49) in pattern (17 / 17), elapsed time: 299.53\n",
      "Number of point sources considered (24 / 49) in pattern (17 / 17), elapsed time: 300.35\n",
      "Number of point sources considered (25 / 49) in pattern (17 / 17), elapsed time: 301.23\n",
      "Number of point sources considered (26 / 49) in pattern (17 / 17), elapsed time: 302.14\n",
      "Number of point sources considered (27 / 49) in pattern (17 / 17), elapsed time: 302.97\n",
      "Number of point sources considered (28 / 49) in pattern (17 / 17), elapsed time: 303.80\n",
      "Number of point sources considered (29 / 49) in pattern (17 / 17), elapsed time: 304.74\n",
      "Number of point sources considered (30 / 49) in pattern (17 / 17), elapsed time: 305.66\n",
      "Number of point sources considered (31 / 49) in pattern (17 / 17), elapsed time: 306.52\n",
      "Number of point sources considered (32 / 49) in pattern (17 / 17), elapsed time: 307.35\n",
      "Number of point sources considered (33 / 49) in pattern (17 / 17), elapsed time: 308.25\n",
      "Number of point sources considered (34 / 49) in pattern (17 / 17), elapsed time: 309.07\n",
      "Number of point sources considered (35 / 49) in pattern (17 / 17), elapsed time: 309.89\n",
      "Number of point sources considered (36 / 49) in pattern (17 / 17), elapsed time: 310.80\n",
      "Number of point sources considered (37 / 49) in pattern (17 / 17), elapsed time: 311.61\n",
      "Number of point sources considered (38 / 49) in pattern (17 / 17), elapsed time: 312.47\n",
      "Number of point sources considered (39 / 49) in pattern (17 / 17), elapsed time: 313.36\n",
      "Number of point sources considered (40 / 49) in pattern (17 / 17), elapsed time: 314.17\n",
      "Number of point sources considered (41 / 49) in pattern (17 / 17), elapsed time: 314.99\n",
      "Number of point sources considered (42 / 49) in pattern (17 / 17), elapsed time: 315.90\n",
      "Number of point sources considered (43 / 49) in pattern (17 / 17), elapsed time: 316.72\n",
      "Number of point sources considered (44 / 49) in pattern (17 / 17), elapsed time: 317.57\n",
      "Number of point sources considered (45 / 49) in pattern (17 / 17), elapsed time: 318.46\n",
      "Number of point sources considered (46 / 49) in pattern (17 / 17), elapsed time: 319.36\n",
      "Number of point sources considered (47 / 49) in pattern (17 / 17), elapsed time: 320.18\n",
      "Number of point sources considered (48 / 49) in pattern (17 / 17), elapsed time: 321.07\n",
      "Number of point sources considered (49 / 49) in pattern (17 / 17), elapsed time: 321.97\n"
     ]
    }
   ],
   "source": [
    "I_meas_SEAGLE, Stokes_SEAGLE = simulator.simulate_3D_vectorial_measurements_SEAGLE(epsilon_tensor, itr_max = 0, tolerance=1e-4, verbose=False)"
   ]
  },
  {
   "cell_type": "code",
   "execution_count": 27,
   "metadata": {},
   "outputs": [
    {
     "data": {
      "application/vnd.jupyter.widget-view+json": {
       "model_id": "b07129641b004b3cb3e9ad0f9a93d396",
       "version_major": 2,
       "version_minor": 0
      },
      "text/plain": [
       "interactive(children=(IntSlider(value=0, description='stack_idx_1', max=99), IntSlider(value=0, description='s…"
      ]
     },
     "metadata": {},
     "output_type": "display_data"
    },
    {
     "data": {
      "text/plain": [
       "<function waveorder.visual.parallel_5D_viewer.<locals>.interact_plot(stack_idx_1, stack_idx_2)>"
      ]
     },
     "execution_count": 27,
     "metadata": {},
     "output_type": "execute_result"
    }
   ],
   "source": [
    "wo.parallel_5D_viewer(np.transpose(Stokes_SEAGLE,(4,1,0,2,3)), num_col=4, size=5, origin='lower')"
   ]
  },
  {
   "cell_type": "code",
   "execution_count": 28,
   "metadata": {},
   "outputs": [
    {
     "data": {
      "application/vnd.jupyter.widget-view+json": {
       "model_id": "ba8b599066c04e459bfcf2cdb2684c2c",
       "version_major": 2,
       "version_minor": 0
      },
      "text/plain": [
       "interactive(children=(IntSlider(value=0, description='stack_idx_1', max=99), IntSlider(value=0, description='s…"
      ]
     },
     "metadata": {},
     "output_type": "display_data"
    },
    {
     "data": {
      "text/plain": [
       "<function waveorder.visual.parallel_5D_viewer.<locals>.interact_plot(stack_idx_1, stack_idx_2)>"
      ]
     },
     "execution_count": 28,
     "metadata": {},
     "output_type": "execute_result"
    }
   ],
   "source": [
    "wo.parallel_5D_viewer(np.transpose(I_meas_SEAGLE,(4,1,0,2,3)), num_col=5, size=5, origin='lower')"
   ]
  },
  {
   "cell_type": "code",
   "execution_count": 29,
   "metadata": {},
   "outputs": [],
   "source": [
    "# Add noise to the measurement\n",
    "\n",
    "photon_count = 5000\n",
    "# ext_ratio    = 100\n",
    "# const_bg     = photon_count/(0.5*(1-np.cos(chi)))/ext_ratio\n",
    "\n",
    "# I_meas_noise = (np.random.poisson(I_meas_SEAGLE/np.mean(I_meas_SEAGLE) * photon_count + const_bg)).astype('float64')\n",
    "\n",
    "\n",
    "I_meas_noise = I_meas_SEAGLE/np.mean(I_meas_SEAGLE) * photon_count"
   ]
  },
  {
   "cell_type": "code",
   "execution_count": 30,
   "metadata": {},
   "outputs": [
    {
     "data": {
      "application/vnd.jupyter.widget-view+json": {
       "model_id": "59a7960c523545b58efc86d539fd2025",
       "version_major": 2,
       "version_minor": 0
      },
      "text/plain": [
       "interactive(children=(IntSlider(value=0, description='stack_idx_1', max=99), IntSlider(value=0, description='s…"
      ]
     },
     "metadata": {},
     "output_type": "display_data"
    },
    {
     "data": {
      "text/plain": [
       "<function waveorder.visual.parallel_5D_viewer.<locals>.interact_plot(stack_idx_1, stack_idx_2)>"
      ]
     },
     "execution_count": 30,
     "metadata": {},
     "output_type": "execute_result"
    }
   ],
   "source": [
    "wo.parallel_5D_viewer(np.transpose(I_meas_noise,(4,1,0,2,3)), num_col=5, size=5, origin='lower')"
   ]
  },
  {
   "cell_type": "code",
   "execution_count": 31,
   "metadata": {},
   "outputs": [],
   "source": [
    "# Save simulations\n",
    "\n",
    "f = open('simulation_data_3D_Pol_phase_inc_NA_illu_09_no_135_ne_140_17_illu_theta_no_noise_Born.pckl', 'wb')\n",
    "pickle.dump((I_meas_noise, lambda_illu, n_media, ps, psz, NA_obj, NA_illu, Source_cont, z_defocus, chi), f)\n",
    "f.close()"
   ]
  },
  {
   "cell_type": "code",
   "execution_count": 27,
   "metadata": {},
   "outputs": [],
   "source": [
    "import cupy\n",
    "import gc\n",
    "gc.collect()\n",
    "cp.get_default_memory_pool().free_all_blocks()"
   ]
  },
  {
   "cell_type": "code",
   "execution_count": 25,
   "metadata": {},
   "outputs": [],
   "source": [
    "del_f_component_f = fftn(del_f_component,axes=(1,2,3))\n",
    "\n",
    "S_stack_f = np.zeros((3, 9, N, M, L), complex)\n",
    "\n",
    "for i in range(3):\n",
    "    for j in range(7):\n",
    "        S_stack_f[i] += setup.H_dyadic_OTF[i,j]*(del_f_component_f[j])[np.newaxis,...]\n",
    "        \n",
    "S_stack = np.real(ifftn(S_stack_f, axes=(2,3,4)))\n",
    "        "
   ]
  },
  {
   "cell_type": "code",
   "execution_count": 26,
   "metadata": {},
   "outputs": [
    {
     "data": {
      "application/vnd.jupyter.widget-view+json": {
       "model_id": "a7e280c17c194773bfe39ebfe126e1f8",
       "version_major": 2,
       "version_minor": 0
      },
      "text/plain": [
       "interactive(children=(IntSlider(value=0, description='stack_idx_1', max=99), IntSlider(value=0, description='s…"
      ]
     },
     "metadata": {},
     "output_type": "display_data"
    },
    {
     "data": {
      "text/plain": [
       "<function waveorder.visual.parallel_5D_viewer.<locals>.interact_plot(stack_idx_1, stack_idx_2)>"
      ]
     },
     "execution_count": 26,
     "metadata": {},
     "output_type": "execute_result"
    }
   ],
   "source": [
    "wo.parallel_5D_viewer(np.transpose(S_stack,(4,1,0,2,3)), num_col=4, size=5, origin='lower')"
   ]
  },
  {
   "cell_type": "code",
   "execution_count": 27,
   "metadata": {},
   "outputs": [
    {
     "name": "stdout",
     "output_type": "stream",
     "text": [
      "Finished preprocess, elapsed time: 16.80\n",
      "Finished reconstruction, elapsed time: 37.12\n"
     ]
    }
   ],
   "source": [
    "reg_inc = np.array([1, 1, 1e1, 1e1, 1e1, 1e1, 1e1])*1\n",
    "reg_ret_ap = 1e-2\n",
    "\n",
    "\n",
    "del_f_sol, retardance_ap, azimuth, theta = setup.Inclination_recon_3D_vec(S_stack, \\\n",
    "                                                                          reg_inc=reg_inc, reg_ret_ap = reg_ret_ap)"
   ]
  },
  {
   "cell_type": "code",
   "execution_count": 28,
   "metadata": {},
   "outputs": [
    {
     "data": {
      "application/vnd.jupyter.widget-view+json": {
       "model_id": "bea06b71f4b740a18823b8a2069dd45d",
       "version_major": 2,
       "version_minor": 0
      },
      "text/plain": [
       "interactive(children=(IntSlider(value=0, description='stack_idx', max=99), Output()), _dom_classes=('widget-in…"
      ]
     },
     "metadata": {},
     "output_type": "display_data"
    },
    {
     "data": {
      "text/plain": [
       "<function waveorder.visual.parallel_4D_viewer.<locals>.interact_plot(stack_idx)>"
      ]
     },
     "execution_count": 28,
     "metadata": {},
     "output_type": "execute_result"
    }
   ],
   "source": [
    "wo.parallel_4D_viewer(np.transpose(del_f_sol,(3,0,1,2)), num_col=4, origin='lower')\n"
   ]
  },
  {
   "cell_type": "code",
   "execution_count": 29,
   "metadata": {},
   "outputs": [
    {
     "data": {
      "application/vnd.jupyter.widget-view+json": {
       "model_id": "931e0364fdd348e899d780add5830a75",
       "version_major": 2,
       "version_minor": 0
      },
      "text/plain": [
       "interactive(children=(IntSlider(value=0, description='stack_idx', max=99), Output()), _dom_classes=('widget-in…"
      ]
     },
     "metadata": {},
     "output_type": "display_data"
    },
    {
     "data": {
      "text/plain": [
       "<function waveorder.visual.parallel_4D_viewer.<locals>.interact_plot(stack_idx)>"
      ]
     },
     "execution_count": 29,
     "metadata": {},
     "output_type": "execute_result"
    }
   ],
   "source": [
    "wo.parallel_4D_viewer(np.transpose(np.stack([-del_f_sol[0]/(4*np.pi/lambda_illu*n_media)*psz, \\\n",
    "                                             retardance_ap/(2*np.pi/lambda_illu*n_media)*psz/2/np.pi*lambda_illu*1e3, \\\n",
    "                                             azimuth, theta]),(3,0,1,2)), num_col=4, origin='lower')"
   ]
  },
  {
   "cell_type": "code",
   "execution_count": 30,
   "metadata": {},
   "outputs": [
    {
     "data": {
      "text/plain": [
       "Text(0.5, 1.0, 'recon')"
      ]
     },
     "execution_count": 30,
     "metadata": {},
     "output_type": "execute_result"
    },
    {
     "data": {
      "image/png": "[encoded data removed]",
      "text/plain": [
       "<Figure size 1512x504 with 6 Axes>"
      ]
     },
     "metadata": {
      "needs_background": "dark"
     },
     "output_type": "display_data"
    }
   ],
   "source": [
    "blur_size = 1*ps\n",
    "# target, azimuth_t, inc_angle = wo.genStarTarget_3D((N,M,L), ps, psz, blur_size, inc_upper_bound=np.pi/4, inc_range=np.pi/64)\n",
    "target, azimuth_t, inc_angle = wo.genStarTarget_3D((N,M,L), ps, psz, blur_size)\n",
    "\n",
    "mask = target.copy()\n",
    "mask[mask>0.2] = 1\n",
    "mask[mask<=0.2] = 0\n",
    "# mask = np.ones_like(target)\n",
    "\n",
    "fig, ax = plt.subplots(1,3,figsize=(21,7))\n",
    "ax1 = ax[0].imshow((mask*(inc_angle-(np.abs(theta-np.pi/2)+np.pi/2)))[:,:,25]/np.pi*180, cmap='jet', origin='lower', vmin=-10, vmax=15)\n",
    "plt.colorbar(ax1,ax=ax[0])\n",
    "ax2 = ax[1].imshow((mask*inc_angle)[:,:,25]/np.pi*180, cmap='jet', origin='lower', vmin=90, vmax=135)\n",
    "plt.colorbar(ax2,ax=ax[1])\n",
    "ax3 = ax[2].imshow((mask*(np.abs(theta-np.pi/2)+np.pi/2))[:,:,25]/np.pi*180, cmap='jet', origin='lower',vmin=90, vmax=135)\n",
    "plt.colorbar(ax3,ax=ax[2])\n",
    "\n",
    "\n",
    "ax[0].set_title('ground truth - recon')\n",
    "ax[1].set_title('ground truth')\n",
    "ax[2].set_title('recon')\n"
   ]
  },
  {
   "cell_type": "code",
   "execution_count": 44,
   "metadata": {},
   "outputs": [
    {
     "data": {
      "text/plain": [
       "3.4567613409873457"
      ]
     },
     "execution_count": 44,
     "metadata": {},
     "output_type": "execute_result"
    }
   ],
   "source": [
    "(np.sum((mask*(inc_angle-(np.abs(theta-np.pi/2)+np.pi/2)))[:,:,25]**2)/np.sum(mask[:,:,25]))**0.5*180/np.pi"
   ]
  },
  {
   "cell_type": "code",
   "execution_count": 108,
   "metadata": {},
   "outputs": [
    {
     "data": {
      "text/plain": [
       "2.56317453182007"
      ]
     },
     "execution_count": 108,
     "metadata": {},
     "output_type": "execute_result"
    }
   ],
   "source": [
    "(np.sum((mask*(inc_angle-(np.abs(theta-np.pi/2)+np.pi/2)))[:,:,25]**2)/np.sum(mask[:,:,25]))**0.5*180/np.pi"
   ]
  },
  {
   "cell_type": "code",
   "execution_count": 31,
   "metadata": {},
   "outputs": [
    {
     "data": {
      "text/plain": [
       "7.960042167098466"
      ]
     },
     "execution_count": 31,
     "metadata": {},
     "output_type": "execute_result"
    }
   ],
   "source": [
    "(np.sum((mask*(inc_angle-(np.abs(theta-np.pi/2)+np.pi/2)))[:,:,25]**2)/np.sum(mask[:,:,25]))**0.5*180/np.pi"
   ]
  },
  {
   "cell_type": "code",
   "execution_count": null,
   "metadata": {},
   "outputs": [],
   "source": []
  }
 ],
 "metadata": {
  "kernelspec": {
   "display_name": "Python 3",
   "language": "python",
   "name": "python3"
  },
  "language_info": {
   "codemirror_mode": {
    "name": "ipython",
    "version": 3
   },
   "file_extension": ".py",
   "mimetype": "text/x-python",
   "name": "python",
   "nbconvert_exporter": "python",
   "pygments_lexer": "ipython3",
   "version": "3.7.3"
  }
 },
 "nbformat": 4,
 "nbformat_minor": 4
}

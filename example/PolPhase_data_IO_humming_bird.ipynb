{
 "cells": [
  {
   "cell_type": "markdown",
   "metadata": {},
   "source": [
    "# Polscope phase large data processer"
   ]
  },
  {
   "cell_type": "code",
   "execution_count": 1,
   "metadata": {},
   "outputs": [],
   "source": [
    "import numpy as np\n",
    "import matplotlib.pyplot as plt\n",
    "from matplotlib.colors import hsv_to_rgb\n",
    "from numpy.fft import fft2, ifft2, fftshift, ifftshift\n",
    "\n",
    "import glob\n",
    "from PIL import Image\n",
    "import pickle\n",
    "import os\n",
    "\n",
    "import waveorder as wo\n",
    "\n",
    "%load_ext autoreload\n",
    "%autoreload 2\n",
    "%matplotlib inline\n",
    "plt.style.use(['dark_background']) # Plotting option for dark background\n"
   ]
  },
  {
   "cell_type": "code",
   "execution_count": 2,
   "metadata": {},
   "outputs": [],
   "source": [
    "n_media       = 1                   # refractive index of the immersed media for objective (oil: 1.512, water: 1.33, air: 1)\n",
    "lambda_illu   = 0.532               # illumination wavelength (um)\n",
    "mag           = 20                  # magnification of the microscope                      \n",
    "NA_obj        = 0.55                # detection NA of the objective\n",
    "NA_illu       = 0.4                 # illumination NA of the condenser\n",
    "N_defocus     = 5                   # number of defocus images\n",
    "N_channel     = 5                   # number of Polscope channels\n",
    "z_step        = 1.757               # z_step of the stack\n",
    "z_defocus     = -(np.r_[:N_defocus]-N_defocus//2)*z_step\n",
    "chi           = 0.03*2*np.pi        # swing of the LC\n",
    "ps            = 6.45/mag            # effective pixel size at the sample plane (cam pix/mag in um)\n",
    "cali          = True                # correction for S1/S2 Polscope reconstruction (does not affect phase)\n",
    "bg_option     = 'local_fit'         # background correction method for Polscope recon (does not affect phase)\n",
    "data_path     = 'C4-Site_4/'        # data path\n",
    "bg_path       = 'data_bg/'           # background data path\n",
    "output_path   = 'phase_recon_3/'      # output image path"
   ]
  },
  {
   "cell_type": "code",
   "execution_count": 3,
   "metadata": {},
   "outputs": [],
   "source": [
    "# solver option\n",
    "\n",
    "deconv = 'TV'         # deconvolution method\n",
    "\n",
    "if deconv == 'Tikhonov':\n",
    "    reg_u = 1e-1      # absorption regularizer (larger the smoother but less contrast)\n",
    "    reg_p = 1e-3      # phase regularizer\n",
    "    \n",
    "elif deconv == 'TV':\n",
    "    lambda_u = 1e-2   # absorption regularizer\n",
    "    lambda_p = 1e-2   # phase regularizer\n",
    "    rho = 1.5         # rho coefficient of ADMM algorithm (the larger the less noisy and contrast)\n",
    "    itr = 10          # number of ADMM iteration (10 is usually good)\n",
    "    verbose = False   # report of the iteration number or not"
   ]
  },
  {
   "cell_type": "code",
   "execution_count": 4,
   "metadata": {},
   "outputs": [],
   "source": [
    "# Plot setting\n",
    "\n",
    "max_phase = 2.5                      # maximum phase value to display\n",
    "min_phase = -1.5                     # minimum phase value to display\n",
    "\n",
    "max_ret   = 2e-3/lambda_illu*2*np.pi # maximum retardance value\n",
    "all_z     = False                    # plot all z birefringence or not\n",
    "z_layer   = 2                        # focal layer to plot if only plot single layer"
   ]
  },
  {
   "cell_type": "code",
   "execution_count": 5,
   "metadata": {},
   "outputs": [],
   "source": [
    "filedir = data_path + '*00000_state*.tif'\n",
    "filedir_bg = bg_path + '*.tif'\n",
    "files = sorted(glob.glob(filedir), key=wo.numericalSort)\n",
    "files_bg = sorted(glob.glob(filedir_bg), key=wo.numericalSort)"
   ]
  },
  {
   "cell_type": "code",
   "execution_count": 7,
   "metadata": {},
   "outputs": [
    {
     "data": {
      "text/plain": [
       "'C4-Site_4/*00000_state*.tif'"
      ]
     },
     "execution_count": 7,
     "metadata": {},
     "output_type": "execute_result"
    }
   ],
   "source": [
    "filedir"
   ]
  },
  {
   "cell_type": "code",
   "execution_count": 8,
   "metadata": {},
   "outputs": [
    {
     "ename": "IndexError",
     "evalue": "list index out of range",
     "output_type": "error",
     "traceback": [
      "\u001b[0;31m---------------------------------------------------------------------------\u001b[0m",
      "\u001b[0;31mIndexError\u001b[0m                                Traceback (most recent call last)",
      "\u001b[0;32m<ipython-input-8-959a260897ed>\u001b[0m in \u001b[0;36m<module>\u001b[0;34m\u001b[0m\n\u001b[1;32m      7\u001b[0m \u001b[0;34m\u001b[0m\u001b[0m\n\u001b[1;32m      8\u001b[0m \u001b[0mplt\u001b[0m\u001b[0;34m.\u001b[0m\u001b[0mfigure\u001b[0m\u001b[0;34m(\u001b[0m\u001b[0mfigsize\u001b[0m\u001b[0;34m=\u001b[0m\u001b[0;34m(\u001b[0m\u001b[0;36m10\u001b[0m\u001b[0;34m,\u001b[0m\u001b[0;36m10\u001b[0m\u001b[0;34m)\u001b[0m\u001b[0;34m)\u001b[0m\u001b[0;34m\u001b[0m\u001b[0;34m\u001b[0m\u001b[0m\n\u001b[0;32m----> 9\u001b[0;31m \u001b[0mplt\u001b[0m\u001b[0;34m.\u001b[0m\u001b[0mimshow\u001b[0m\u001b[0;34m(\u001b[0m\u001b[0mplt\u001b[0m\u001b[0;34m.\u001b[0m\u001b[0mimread\u001b[0m\u001b[0;34m(\u001b[0m\u001b[0mfiles\u001b[0m\u001b[0;34m[\u001b[0m\u001b[0;36m0\u001b[0m\u001b[0;34m]\u001b[0m\u001b[0;34m)\u001b[0m\u001b[0;34m.\u001b[0m\u001b[0mastype\u001b[0m\u001b[0;34m(\u001b[0m\u001b[0;34m'float64'\u001b[0m\u001b[0;34m)\u001b[0m\u001b[0;34m[\u001b[0m\u001b[0mn_start\u001b[0m\u001b[0;34m[\u001b[0m\u001b[0;36m0\u001b[0m\u001b[0;34m]\u001b[0m\u001b[0;34m:\u001b[0m\u001b[0mn_start\u001b[0m\u001b[0;34m[\u001b[0m\u001b[0;36m0\u001b[0m\u001b[0;34m]\u001b[0m\u001b[0;34m+\u001b[0m\u001b[0mNs\u001b[0m\u001b[0;34m,\u001b[0m \u001b[0mn_start\u001b[0m\u001b[0;34m[\u001b[0m\u001b[0;36m1\u001b[0m\u001b[0;34m]\u001b[0m\u001b[0;34m:\u001b[0m\u001b[0mn_start\u001b[0m\u001b[0;34m[\u001b[0m\u001b[0;36m1\u001b[0m\u001b[0;34m]\u001b[0m\u001b[0;34m+\u001b[0m\u001b[0mMs\u001b[0m\u001b[0;34m]\u001b[0m\u001b[0;34m)\u001b[0m\u001b[0;34m\u001b[0m\u001b[0;34m\u001b[0m\u001b[0m\n\u001b[0m",
      "\u001b[0;31mIndexError\u001b[0m: list index out of range"
     ]
    },
    {
     "data": {
      "text/plain": [
       "<Figure size 720x720 with 0 Axes>"
      ]
     },
     "metadata": {},
     "output_type": "display_data"
    }
   ],
   "source": [
    "# select a FOV for processing\n",
    "\n",
    "Ns = 600\n",
    "Ms = 600\n",
    "n_start = [550, 1400] # grating target\n",
    "\n",
    "\n",
    "plt.figure(figsize=(10,10))\n",
    "plt.imshow(plt.imread(files[0]).astype('float64')[n_start[0]:n_start[0]+Ns, n_start[1]:n_start[1]+Ms])\n"
   ]
  },
  {
   "cell_type": "code",
   "execution_count": 13,
   "metadata": {},
   "outputs": [],
   "source": [
    "filedir = data_path + '*state*.tif'\n",
    "files = sorted(glob.glob(filedir), key=wo.numericalSort)"
   ]
  },
  {
   "cell_type": "code",
   "execution_count": 9,
   "metadata": {},
   "outputs": [],
   "source": [
    "\n",
    "setup = wo.waveorder_microscopy((Ns,Ms), lambda_illu, ps, NA_obj, NA_illu, z_defocus, chi,\\\n",
    "                                n_media=n_media, cali=cali, bg_option=bg_option)"
   ]
  },
  {
   "cell_type": "code",
   "execution_count": 21,
   "metadata": {},
   "outputs": [
    {
     "name": "stdout",
     "output_type": "stream",
     "text": [
      "Number of image stacks processed (1 / 52)\n",
      "Number of image stacks processed (2 / 52)\n",
      "Number of image stacks processed (3 / 52)\n",
      "Number of image stacks processed (4 / 52)\n",
      "Number of image stacks processed (5 / 52)\n",
      "Number of image stacks processed (6 / 52)\n",
      "Number of image stacks processed (7 / 52)\n",
      "Number of image stacks processed (8 / 52)\n",
      "Number of image stacks processed (9 / 52)\n",
      "Number of image stacks processed (10 / 52)\n",
      "Number of image stacks processed (11 / 52)\n",
      "Number of image stacks processed (12 / 52)\n",
      "Number of image stacks processed (13 / 52)\n",
      "Number of image stacks processed (14 / 52)\n",
      "Number of image stacks processed (15 / 52)\n",
      "Number of image stacks processed (16 / 52)\n",
      "Number of image stacks processed (17 / 52)\n",
      "Number of image stacks processed (18 / 52)\n",
      "Number of image stacks processed (19 / 52)\n",
      "Number of image stacks processed (20 / 52)\n",
      "Number of image stacks processed (21 / 52)\n",
      "Number of image stacks processed (22 / 52)\n",
      "Number of image stacks processed (23 / 52)\n",
      "Number of image stacks processed (24 / 52)\n",
      "Number of image stacks processed (25 / 52)\n",
      "Number of image stacks processed (26 / 52)\n",
      "Number of image stacks processed (27 / 52)\n",
      "Number of image stacks processed (28 / 52)\n",
      "Number of image stacks processed (29 / 52)\n",
      "Number of image stacks processed (30 / 52)\n",
      "Number of image stacks processed (31 / 52)\n",
      "Number of image stacks processed (32 / 52)\n",
      "Number of image stacks processed (33 / 52)\n",
      "Number of image stacks processed (34 / 52)\n",
      "Number of image stacks processed (35 / 52)\n",
      "Number of image stacks processed (36 / 52)\n",
      "Number of image stacks processed (37 / 52)\n",
      "Number of image stacks processed (38 / 52)\n",
      "Number of image stacks processed (39 / 52)\n",
      "Number of image stacks processed (40 / 52)\n",
      "Number of image stacks processed (41 / 52)\n",
      "Number of image stacks processed (42 / 52)\n",
      "Number of image stacks processed (43 / 52)\n",
      "Number of image stacks processed (44 / 52)\n",
      "Number of image stacks processed (45 / 52)\n",
      "Number of image stacks processed (46 / 52)\n",
      "Number of image stacks processed (47 / 52)\n",
      "Number of image stacks processed (48 / 52)\n",
      "Number of image stacks processed (49 / 52)\n",
      "Number of image stacks processed (50 / 52)\n",
      "Number of image stacks processed (51 / 52)\n",
      "Number of image stacks processed (52 / 52)\n"
     ]
    }
   ],
   "source": [
    "os.system('mkdir '+output_path)\n",
    "os.system('mkdir '+output_path+'phase')\n",
    "os.system('mkdir '+output_path+'birefringence')\n",
    "\n",
    "\n",
    "\n",
    "Nimg = N_defocus*N_channel\n",
    "N_time = len(files)//Nimg\n",
    "\n",
    "\n",
    "# Load background images\n",
    "Nbg = len(files_bg)\n",
    "I_bg_pre = []\n",
    "\n",
    "for i in range(0, Nbg):\n",
    "    Itemp = plt.imread(files_bg[i]).astype('float64')[n_start[0]:n_start[0]+Ns, n_start[1]:n_start[1]+Ms]\n",
    "    I_bg_pre.append(Itemp)\n",
    "\n",
    "I_bg_pre = np.array(I_bg_pre)\n",
    "\n",
    "I_bg = np.zeros_like(I_bg_pre)\n",
    "I_bg = wo.intensity_mapping(I_bg_pre)\n",
    "\n",
    "\n",
    "\n",
    "for m in range(N_time):\n",
    "    \n",
    "    # Load Polscope images\n",
    "    I_meas_pre =[]\n",
    "\n",
    "    for i in range(0, Nimg):\n",
    "        Itemp = plt.imread(files[m*Nimg+i]).astype('float64')[n_start[0]:n_start[0]+Ns, n_start[1]:n_start[1]+Ms]\n",
    "        I_meas_pre.append(Itemp)\n",
    "    I_meas_pre = np.array(I_meas_pre)\n",
    "    I_meas_pre = np.transpose(I_meas_pre.reshape((N_channel, N_defocus, Ns, Ms)), (0,2,3,1))\n",
    "    \n",
    "    # intensity mapping to match the theory\n",
    "    I_meas = np.zeros_like(I_meas_pre)\n",
    "    for i in range(N_defocus):\n",
    "        I_meas[:,:,:,i] = wo.intensity_mapping(I_meas_pre[:,:,:,i])\n",
    "        \n",
    "    \n",
    "    \n",
    "    # Stokes vector recon with bg correction\n",
    "    S_image_recon = setup.Stokes_recon(I_meas)\n",
    "    S_bg_recon = setup.Stokes_recon(I_bg)\n",
    "    S_image_tm = setup.Stokes_transform(S_image_recon)\n",
    "    S_bg_tm = setup.Stokes_transform(S_bg_recon)\n",
    "    S_image_tm = setup.Polscope_bg_correction(S_image_tm, S_bg_tm)    \n",
    "    Recon_para = setup.Polarization_recon(S_image_tm)\n",
    "    \n",
    "    # Take out S0 for phase reconstruction\n",
    "    S0_stack = S_image_tm[0].copy()\n",
    "    \n",
    "    \n",
    "    # Phase reconstruction\n",
    "    \n",
    "    if deconv == 'Tikhonov':\n",
    "        mu_sample, phi_sample = setup.Phase_recon(S0_stack, method='Tikhonov', reg_u = reg_u, reg_p = reg_p)\n",
    "    \n",
    "    elif deconv == 'TV':\n",
    "        mu_sample, phi_sample = setup.Phase_recon(S0_stack, method='TV', lambda_u = lambda_u, lambda_p = lambda_p, \\\n",
    "                                                  itr = itr, rho=rho, verbose = verbose)\n",
    "    \n",
    "    \n",
    "    # figure plotting as tiff files\n",
    "    \n",
    "    file_name_phase = output_path+'phase/'+files[m*Nimg].split('state')[0].split('/')[1]+'phase.tiff'\n",
    "    plt.imsave(file_name_phase, phi_sample, format=\"tiff\", cmap=plt.cm.gray, vmin=min_phase, vmax=max_phase)\n",
    "    \n",
    "    if all_z == True:\n",
    "        for i in range(N_defocus):\n",
    "\n",
    "            bi_hsv = np.transpose(np.array([Recon_para[1,:,:,i]/np.pi, \\\n",
    "                                               np.ones((Ns,Ms)), \\\n",
    "                                               np.clip(Recon_para[0,:,:,i]/max_ret,0,1)]), (1,2,0))\n",
    "            bi_rgb = hsv_to_rgb(bi_hsv.copy())\n",
    "\n",
    "\n",
    "            file_name_bire = output_path+'birefringence/'+files[m*Nimg+i].split('state0_')[0].split('/')[1]\\\n",
    "                            +files[m*Nimg+i].split('state0_')[1].split('.')[0]+'_birefringence.tiff'\n",
    "            plt.imsave(file_name_bire, bi_rgb, format=\"tiff\")\n",
    "    else:\n",
    "#             bi_hsv = np.transpose(np.array([Recon_para[1,:,:,z_layer]/np.pi, \\\n",
    "#                                                np.ones((Ns,Ms)), \\\n",
    "#                                                np.clip(Recon_para[0,:,:,z_layer]/max_ret,0,1)]), (1,2,0))\n",
    "            norm_phase = np.clip(phi_sample, min_phase, max_phase)-min_phase\n",
    "            norm_phase /= np.max(norm_phase)\n",
    "            bi_hsv = np.transpose(np.array([Recon_para[1,:,:,z_layer]/np.pi, \\\n",
    "                                               np.clip(Recon_para[0,:,:,z_layer]/max_ret,0,1), \\\n",
    "                                               norm_phase]), (1,2,0))\n",
    "            bi_rgb_temp = hsv_to_rgb(bi_hsv.copy())\n",
    "            bi_rgb = np.zeros_like(bi_rgb_temp)\n",
    "            bi_rgb[:,:,0] = bi_rgb_temp[:,:,2]\n",
    "            bi_rgb[:,:,1] = bi_rgb_temp[:,:,1]\n",
    "            bi_rgb[:,:,2] = bi_rgb_temp[:,:,0]\n",
    "\n",
    "\n",
    "            file_name_bire = output_path+'birefringence/'+files[m*Nimg+z_layer].split('state0_')[0].split('/')[1]\\\n",
    "                            +files[m*Nimg+z_layer].split('state0_')[1].split('.')[0]+'_birefringence.tiff'\n",
    "            plt.imsave(file_name_bire, bi_rgb, format=\"tiff\")\n",
    "\n",
    "\n",
    "    \n",
    "    print('Number of image stacks processed (%d / %d)'%(m+1,N_time))\n",
    "    \n",
    "    \n",
    "    "
   ]
  },
  {
   "cell_type": "code",
   "execution_count": null,
   "metadata": {},
   "outputs": [],
   "source": []
  }
 ],
 "metadata": {
  "kernelspec": {
   "display_name": "Python 3",
   "language": "python",
   "name": "python3"
  },
  "language_info": {
   "codemirror_mode": {
    "name": "ipython",
    "version": 3
   },
   "file_extension": ".py",
   "mimetype": "text/x-python",
   "name": "python",
   "nbconvert_exporter": "python",
   "pygments_lexer": "ipython3",
   "version": "3.6.8"
  }
 },
 "nbformat": 4,
 "nbformat_minor": 4
}

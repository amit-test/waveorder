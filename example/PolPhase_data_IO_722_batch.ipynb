{
 "cells": [
  {
   "cell_type": "markdown",
   "metadata": {},
   "source": [
    "# Polscope phase large data processer"
   ]
  },
  {
   "cell_type": "markdown",
   "metadata": {},
   "source": [
    "- 7/22/19 data. 5 slices. ~60 viable timepoints, total of 3 hours. 5 positions."
   ]
  },
  {
   "cell_type": "code",
   "execution_count": 1,
   "metadata": {},
   "outputs": [],
   "source": [
    "import numpy as np\n",
    "import matplotlib.pyplot as plt\n",
    "from matplotlib.colors import hsv_to_rgb\n",
    "from numpy.fft import fft2, ifft2, fftshift, ifftshift\n",
    "import time\n",
    "\n",
    "import glob\n",
    "from PIL import Image\n",
    "import pickle\n",
    "import os\n",
    "from skimage import io\n",
    "import ipywidgets as widgets\n",
    "from ipywidgets import interact, interactive, fixed, interact_manual\n",
    "\n",
    "import waveorder as wo\n",
    "\n",
    "\n",
    "%matplotlib inline\n",
    "plt.style.use(['dark_background']) # Plotting option for dark background\n"
   ]
  },
  {
   "cell_type": "code",
   "execution_count": 2,
   "metadata": {},
   "outputs": [],
   "source": [
    "def dictionary_length(d):\n",
    "    length = 0\n",
    "    for key in d:\n",
    "        length += len(d[key])\n",
    "    return length"
   ]
  },
  {
   "cell_type": "code",
   "execution_count": 3,
   "metadata": {},
   "outputs": [],
   "source": [
    "n_media       = 1.512               # refractive index of the immersed media for objective (oil: 1.512, water: 1.33, air: 1)\n",
    "lambda_illu   = 0.532               # illumination wavelength (um)\n",
    "mag           = 63                  # magnification of the microscope                      \n",
    "NA_obj        = 1.47                # detection NA of the objective\n",
    "NA_illu       = 0.4                 # illumination NA of the condenser\n",
    "N_defocus     = 5                   # number of defocus images\n",
    "N_channel     = 5                   # number of Polscope channels\n",
    "z_step        = 0.25               # z_step of the stack\n",
    "z_defocus     = -(np.r_[:N_defocus]-N_defocus//2)*z_step\n",
    "chi           = 0.03*2*np.pi        # swing of the LC\n",
    "ps            = 6.45/mag            # effective pixel size at the sample plane (cam pix/mag in um)\n",
    "cali          = True                # correction for S1/S2 Polscope reconstruction (does not affect phase)\n",
    "bg_option     = 'local_fit'         # background correction method for Polscope recon (does not affect phase)\n",
    "data_path     = '/mnt/comp_micro/Hummingbird/RawData/Interns/2019_07_22/U2OS untreated_1/' # data path\n",
    "bg_path       = '/mnt/comp_micro/Hummingbird/RawData/Interns/2019_07_22/Empty_Background/Pos0/'# background data path\n",
    "output_path   = '/mnt/comp_micro/Projects/nucleolus/labelfree_segmentation/phase_recon/7_22_19_6well/'# output image path\n"
   ]
  },
  {
   "cell_type": "code",
   "execution_count": 76,
   "metadata": {},
   "outputs": [],
   "source": [
    "data_paths = sorted(glob.glob(data_path + \"/*/\"))\n",
    "N_Pos = len(data_paths)"
   ]
  },
  {
   "cell_type": "code",
   "execution_count": 41,
   "metadata": {},
   "outputs": [],
   "source": [
    "output_paths = [output_path + \"Pos\" + str(i) + \"/\" for i in range(N_Pos)]"
   ]
  },
  {
   "cell_type": "code",
   "execution_count": 42,
   "metadata": {},
   "outputs": [],
   "source": [
    "# solver option\n",
    "\n",
    "deconv = 'TV'         # deconvolution method\n",
    "\n",
    "if deconv == 'Tikhonov':\n",
    "    reg_u = 1e-1      # absorption regularizer (larger the smoother but less contrast)\n",
    "    reg_p = 1e-3      # phase regularizer\n",
    "    \n",
    "elif deconv == 'TV':\n",
    "    lambda_u = 1e-2   # absorption regularizer\n",
    "    lambda_p = 1e-2   # phase regularizer\n",
    "    rho = 1.5         # rho coefficient of ADMM algorithm (the larger the less noisy and contrast)\n",
    "    itr = 10          # number of ADMM iteration (10 is usually good)\n",
    "    verbose = False   # report of the iteration number or not"
   ]
  },
  {
   "cell_type": "code",
   "execution_count": 43,
   "metadata": {},
   "outputs": [],
   "source": [
    "# Plot setting\n",
    "\n",
    "max_phase = 2.5                      # maximum phase value to display\n",
    "min_phase = -1.5                     # minimum phase value to display\n",
    "\n",
    "max_ret   = 2e-3/lambda_illu*2*np.pi # maximum retardance value\n",
    "all_z     = False                    # plot all z birefringence or not\n",
    "z_layer   = 2                        # focal layer to plot if only plot single layer\n",
    "recon_birefringence = False           # Reconstruct birefringence?\n",
    "recon_phase = True                  # Reconstruct phase?\n",
    "test = True                          # Tuning lambda\n",
    "lambdas = [1e-1,1e-2,1e-3]"
   ]
  },
  {
   "cell_type": "code",
   "execution_count": 44,
   "metadata": {},
   "outputs": [
    {
     "data": {
      "text/plain": [
       "['/mnt/comp_micro/Hummingbird/RawData/Interns/2019_07_22/U2OS untreated_1/Pos0/',\n",
       " '/mnt/comp_micro/Hummingbird/RawData/Interns/2019_07_22/U2OS untreated_1/Pos1/',\n",
       " '/mnt/comp_micro/Hummingbird/RawData/Interns/2019_07_22/U2OS untreated_1/Pos2/',\n",
       " '/mnt/comp_micro/Hummingbird/RawData/Interns/2019_07_22/U2OS untreated_1/Pos3/',\n",
       " '/mnt/comp_micro/Hummingbird/RawData/Interns/2019_07_22/U2OS untreated_1/Pos4/']"
      ]
     },
     "execution_count": 44,
     "metadata": {},
     "output_type": "execute_result"
    }
   ],
   "source": [
    "data_paths"
   ]
  },
  {
   "cell_type": "code",
   "execution_count": 18,
   "metadata": {},
   "outputs": [],
   "source": [
    "files = {}\n",
    "for i in np.arange(N_Pos):\n",
    "    files[i] = sorted(glob.glob(data_paths[i] + '*0[0-5][0-9]_state*.tif'))"
   ]
  },
  {
   "cell_type": "code",
   "execution_count": 20,
   "metadata": {},
   "outputs": [],
   "source": [
    "filedir_bg = bg_path + '*Acquired*.tif'\n",
    "files_bg = sorted(glob.glob(filedir_bg), key=wo.numericalSort)"
   ]
  },
  {
   "cell_type": "code",
   "execution_count": 35,
   "metadata": {},
   "outputs": [
    {
     "data": {
      "text/plain": [
       "'/mnt/comp_micro/Hummingbird/RawData/Interns/2019_07_22/U2OS untreated_1/Pos2/img_000000000_state0_000.tif'"
      ]
     },
     "execution_count": 35,
     "metadata": {},
     "output_type": "execute_result"
    }
   ],
   "source": [
    "files[2][0]"
   ]
  },
  {
   "cell_type": "code",
   "execution_count": 37,
   "metadata": {
    "scrolled": false
   },
   "outputs": [],
   "source": [
    "#select a FOV for processing\n",
    "\n",
    "Ns = 2048\n",
    "Ms = 2048\n",
    "n_start = [0, 0]"
   ]
  },
  {
   "cell_type": "code",
   "execution_count": 70,
   "metadata": {},
   "outputs": [
    {
     "name": "stdout",
     "output_type": "stream",
     "text": [
      "CPU times: user 0 ns, sys: 0 ns, total: 0 ns\n",
      "Wall time: 20.5 µs\n"
     ]
    }
   ],
   "source": [
    "%time\n",
    "setup = wo.waveorder_microscopy((Ns,Ms), lambda_illu, ps, NA_obj, NA_illu, z_defocus, chi,\\\n",
    "                                n_media=n_media, cali=cali, bg_option=bg_option)"
   ]
  },
  {
   "cell_type": "code",
   "execution_count": 50,
   "metadata": {},
   "outputs": [],
   "source": [
    "for path in output_paths:\n",
    "    os.system('mkdir '+path)\n",
    "    os.system('mkdir '+path+'test')\n",
    "    os.system('mkdir '+path+'phase')\n",
    "    os.system('mkdir '+path+'birefringence')"
   ]
  },
  {
   "cell_type": "code",
   "execution_count": 60,
   "metadata": {},
   "outputs": [
    {
     "data": {
      "text/plain": [
       "7500"
      ]
     },
     "execution_count": 60,
     "metadata": {},
     "output_type": "execute_result"
    }
   ],
   "source": [
    "dictionary_length(files)"
   ]
  },
  {
   "cell_type": "code",
   "execution_count": 64,
   "metadata": {},
   "outputs": [
    {
     "data": {
      "text/plain": [
       "0"
      ]
     },
     "execution_count": 64,
     "metadata": {},
     "output_type": "execute_result"
    }
   ],
   "source": [
    "N_time"
   ]
  },
  {
   "cell_type": "code",
   "execution_count": 66,
   "metadata": {},
   "outputs": [],
   "source": [
    "assert dictionary_length(files) == N_Pos*N_channel*N_defocus*N_time"
   ]
  },
  {
   "cell_type": "code",
   "execution_count": 73,
   "metadata": {},
   "outputs": [],
   "source": [
    "def recon_phase_position(pos):\n",
    "    for m in range(N_time):\n",
    "\n",
    "        # Load Polscope images\n",
    "        I_meas_pre =[]\n",
    "\n",
    "        for i in range(0, Nimg):\n",
    "            Itemp = io.imread(files[pos][m*Nimg+i]).astype('float64')[n_start[0]:n_start[0]+Ns, n_start[1]:n_start[1]+Ms]\n",
    "            I_meas_pre.append(Itemp)\n",
    "            sys.stdout.write(\"\\r\" + \"Loaded Polscope image \" + str(i))\n",
    "            sys.stdout.flush()\n",
    "\n",
    "        I_meas_pre = np.array(I_meas_pre)\n",
    "        I_meas_pre = np.transpose(I_meas_pre.reshape((N_channel, N_defocus, Ns, Ms)), (0,2,3,1))\n",
    "\n",
    "        # intensity mapping to match the theory\n",
    "        I_meas = np.zeros_like(I_meas_pre)\n",
    "        for i in range(N_defocus):\n",
    "            I_meas[:,:,:,i] = wo.intensity_mapping(I_meas_pre[:,:,:,i])\n",
    "            sys.stdout.write(\"\\r\" + \"Intensity mapping \" + str(i))\n",
    "            sys.stdout.flush()\n",
    "\n",
    "\n",
    "        # Stokes vector recon with bg correction\n",
    "        S_image_recon = setup.Stokes_recon(I_meas)\n",
    "        S_bg_recon = setup.Stokes_recon(I_bg)\n",
    "        S_image_tm = setup.Stokes_transform(S_image_recon)\n",
    "        S_bg_tm = setup.Stokes_transform(S_bg_recon)\n",
    "        S_image_tm = setup.Polscope_bg_correction(S_image_tm, S_bg_tm)    \n",
    "        Recon_para = setup.Polarization_recon(S_image_tm)\n",
    "\n",
    "        # Take out S0 for phase reconstruction\n",
    "        S0_stack = S_image_tm[0].copy()\n",
    "\n",
    "        # Phase reconstruction. Trying different regularizers.\n",
    "        if recon_phase == True:\n",
    "\n",
    "            if deconv == 'Tikhonov':\n",
    "                mu_sample, phi_sample = setup.Phase_recon(S0_stack, method='Tikhonov', reg_u = reg_u, reg_p = reg_p)\n",
    "\n",
    "            elif deconv == 'TV':\n",
    "                mu_sample, phi_sample = setup.Phase_recon(S0_stack, method='TV', lambda_u = lambda_u, lambda_p = lambda_p, \\\n",
    "                                                          itr = itr, rho=rho, verbose = verbose)\n",
    "\n",
    "            # figure plotting as tiff files\n",
    "            file_name_phase = output_paths[pos]+'phase/'+files[pos][m*Nimg].split('state')[0].rsplit('/')[-1]+'phase.tiff'\n",
    "            plt.imsave(file_name_phase, phi_sample, format=\"tiff\", cmap=plt.cm.gray, vmin=min_phase, vmax=max_phase)\n",
    "\n",
    "        # Birefringence reconstruction.\n",
    "        if all_z == True:\n",
    "            for i in range(N_defocus):\n",
    "\n",
    "                bi_hsv = np.transpose(np.array([Recon_para[1,:,:,i]/np.pi, \\\n",
    "                                                   np.ones((Ns,Ms)), \\\n",
    "                                                   np.clip(Recon_para[0,:,:,i]/max_ret,0,1)]), (1,2,0))\n",
    "                bi_rgb = hsv_to_rgb(bi_hsv.copy())\n",
    "\n",
    "\n",
    "                file_name_bire = output_path[pos]+'birefringence/'+files[pos][m*Nimg+i].split('state0')[0].split('/')[1]\\\n",
    "                                +files[pos][m*Nimg+i].split('state0')[1].split('.')[0]+'_birefringence.tiff'\n",
    "                plt.imsave(file_name_bire, bi_rgb, format=\"tiff\")\n",
    "\n",
    "        elif recon_birefringence == True:\n",
    "#                 bi_hsv = np.transpose(np.array([Recon_para[1,:,:,z_layer]/np.pi, \\\n",
    "#                                                np.ones((Ns,Ms)), \\\n",
    "#                                                np.clip(Recon_para[0,:,:,z_layer]/max_ret,0,1)]), (1,2,0))\n",
    "                norm_phase = np.clip(phi_sample, min_phase, max_phase)-min_phase\n",
    "                norm_phase /= np.max(norm_phase)\n",
    "                bi_hsv = np.transpose(np.array([Recon_para[1,:,:,z_layer]/np.pi, \\\n",
    "                                                   np.clip(Recon_para[0,:,:,z_layer]/max_ret,0,1), \\\n",
    "                                                   norm_phase]), (1,2,0))\n",
    "                bi_rgb_temp = hsv_to_rgb(bi_hsv.copy())\n",
    "                bi_rgb = np.zeros_like(bi_rgb_temp)\n",
    "                bi_rgb[:,:,0] = bi_rgb_temp[:,:,2]\n",
    "                bi_rgb[:,:,1] = bi_rgb_temp[:,:,1]\n",
    "                bi_rgb[:,:,2] = bi_rgb_temp[:,:,0]\n",
    "\n",
    "\n",
    "                file_name_bire = output_path[pos]+'birefringence/'+files[m*Nimg+z_layer].split('state0')[0].rsplit('/')[-1]\\\n",
    "                                +files[pos][m*Nimg+z_layer].split('state0')[1].split('.')[0]+'_birefringence.tiff'\n",
    "                plt.imsave(file_name_bire, bi_rgb, format=\"tiff\")\n",
    "\n",
    "        print('Number of image stacks processed (%d / %d)'%(m+1,N_time))"
   ]
  },
  {
   "cell_type": "code",
   "execution_count": 72,
   "metadata": {},
   "outputs": [],
   "source": [
    "from joblib import Parallel, delayed"
   ]
  },
  {
   "cell_type": "code",
   "execution_count": 74,
   "metadata": {
    "scrolled": false
   },
   "outputs": [
    {
     "name": "stdout",
     "output_type": "stream",
     "text": [
      "Loaded Background 4"
     ]
    },
    {
     "name": "stderr",
     "output_type": "stream",
     "text": [
      "[Parallel(n_jobs=5)]: Using backend LokyBackend with 5 concurrent workers.\n",
      "[Parallel(n_jobs=5)]: Done   2 out of   5 | elapsed: 72.6min remaining: 108.8min\n",
      "[Parallel(n_jobs=5)]: Done   3 out of   5 | elapsed: 73.6min remaining: 49.1min\n",
      "[Parallel(n_jobs=5)]: Done   5 out of   5 | elapsed: 117.3min remaining:    0.0s\n",
      "[Parallel(n_jobs=5)]: Done   5 out of   5 | elapsed: 117.3min finished\n"
     ]
    },
    {
     "data": {
      "text/plain": [
       "[None, None, None, None, None]"
      ]
     },
     "execution_count": 74,
     "metadata": {},
     "output_type": "execute_result"
    }
   ],
   "source": [
    "#After tuning for lambda, reconstruct batch.\n",
    "Nimg = N_defocus*N_channel\n",
    "N_time = len(files[0])//Nimg\n",
    "\n",
    "# Load background images\n",
    "Nbg = len(files_bg)\n",
    "I_bg_pre = []\n",
    "for i in range(0, Nbg):\n",
    "    Itemp = io.imread(files_bg[i]).astype('float64')[n_start[0]:n_start[0]+Ns, n_start[1]:n_start[1]+Ms] + 1\n",
    "    I_bg_pre.append(Itemp)\n",
    "    sys.stdout.write(\"\\r\" + \"Loaded Background \" + str(i))\n",
    "    sys.stdout.flush()\n",
    "    \n",
    "I_bg_pre = np.array(I_bg_pre)\n",
    "\n",
    "I_bg = np.zeros_like(I_bg_pre)\n",
    "I_bg = wo.intensity_mapping(I_bg_pre)\n",
    "\n",
    "Parallel(n_jobs = 5, verbose = 10)(delayed(recon_phase_position)(pos) for pos in range(N_Pos))"
   ]
  },
  {
   "cell_type": "markdown",
   "metadata": {},
   "source": [
    "> Takes about 2min per stack."
   ]
  }
 ],
 "metadata": {
  "kernelspec": {
   "display_name": "Python 3",
   "language": "python",
   "name": "python3"
  },
  "language_info": {
   "codemirror_mode": {
    "name": "ipython",
    "version": 3
   },
   "file_extension": ".py",
   "mimetype": "text/x-python",
   "name": "python",
   "nbconvert_exporter": "python",
   "pygments_lexer": "ipython3",
   "version": "3.6.9"
  }
 },
 "nbformat": 4,
 "nbformat_minor": 4
}

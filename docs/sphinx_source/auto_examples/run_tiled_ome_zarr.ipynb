{
  "cells": [
    {
      "cell_type": "markdown",
      "metadata": {},
      "source": [
        "\n# Tiled OME-Zarr\n\nThis script shows how to create a tiled single-resolution OME-Zarr dataset,\nmake a tiles grid, and write data.\n"
      ]
    },
    {
      "cell_type": "code",
      "execution_count": null,
      "metadata": {
        "collapsed": false
      },
      "outputs": [],
      "source": [
        "import os\nfrom tempfile import TemporaryDirectory\n\nimport numpy as np\n\nfrom iohub.ngff import open_ome_zarr"
      ]
    },
    {
      "cell_type": "markdown",
      "metadata": {},
      "source": [
        "Set storage path\n\n"
      ]
    },
    {
      "cell_type": "code",
      "execution_count": null,
      "metadata": {
        "collapsed": false
      },
      "outputs": [],
      "source": [
        "tmp_dir = TemporaryDirectory()\nstore_path = os.path.join(tmp_dir.name, \"tiled.zarr\")\nprint(\"Zarr store path\", store_path)"
      ]
    },
    {
      "cell_type": "markdown",
      "metadata": {},
      "source": [
        "Write 5D data to a new Zarr store\n\n"
      ]
    },
    {
      "cell_type": "code",
      "execution_count": null,
      "metadata": {
        "collapsed": false
      },
      "outputs": [],
      "source": [
        "# define grid (rows, columns)\ngrid_shape = (2, 3)\n# define tile shape (5D array)\ntile_shape = (5, 2, 3, 32, 32)\n\n\nwith open_ome_zarr(\n    store_path, layout=\"tiled\", mode=\"a\", channel_names=[\"DAPI\", \"GFP\"]\n) as dataset:\n    dtype = np.uint16\n    tiles = dataset.make_tiles(\n        \"tiled_raw\", grid_shape=grid_shape, tile_shape=tile_shape, dtype=dtype\n    )\n    for row in range(grid_shape[0]):\n        for column in range(grid_shape[1]):\n            # each tile will be filled with different constant values\n            data = np.zeros(shape=tile_shape, dtype=dtype) + row + column\n            tiles.write_tile(data, row, column)"
      ]
    },
    {
      "cell_type": "markdown",
      "metadata": {},
      "source": [
        "Load the dataset\n\n"
      ]
    },
    {
      "cell_type": "code",
      "execution_count": null,
      "metadata": {
        "collapsed": false
      },
      "outputs": [],
      "source": [
        "with open_ome_zarr(store_path, layout=\"tiled\", mode=\"r\") as dataset:\n    # data store structure\n    dataset.print_tree()\n    # get tiled image array\n    tiled = dataset[\"tiled_raw\"]\n    # check grid and tile shapes\n    print(tiled.tiles, tiled.tile_shape)\n    # read a tile\n    tile_1_2 = tiled.get_tile(1, 2)"
      ]
    },
    {
      "cell_type": "markdown",
      "metadata": {},
      "source": [
        "Try viewing the images with napari-ome-zarr\n\n"
      ]
    },
    {
      "cell_type": "markdown",
      "metadata": {},
      "source": [
        "Clean up\n\n"
      ]
    },
    {
      "cell_type": "code",
      "execution_count": null,
      "metadata": {
        "collapsed": false
      },
      "outputs": [],
      "source": [
        "tmp_dir.cleanup()"
      ]
    }
  ],
  "metadata": {
    "kernelspec": {
      "display_name": "Python 3",
      "language": "python",
      "name": "python3"
    },
    "language_info": {
      "codemirror_mode": {
        "name": "ipython",
        "version": 3
      },
      "file_extension": ".py",
      "mimetype": "text/x-python",
      "name": "python",
      "nbconvert_exporter": "python",
      "pygments_lexer": "ipython3",
      "version": "3.12.11"
    }
  },
  "nbformat": 4,
  "nbformat_minor": 0
}
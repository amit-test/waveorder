{
  "cells": [
    {
      "cell_type": "markdown",
      "metadata": {},
      "source": [
        "\n# Single-FOV OME-Zarr\n\nThis script shows how to create a single-FOV, single-scale OME-Zarr dataset,\nread data in read-only mode,\nappend an extra time point to an existing dataset,\nand adding a new channel to an existing dataset.\n"
      ]
    },
    {
      "cell_type": "code",
      "execution_count": null,
      "metadata": {
        "collapsed": false
      },
      "outputs": [],
      "source": [
        "import os\nfrom tempfile import TemporaryDirectory\n\nimport numpy as np\n\nfrom iohub.ngff import open_ome_zarr"
      ]
    },
    {
      "cell_type": "markdown",
      "metadata": {},
      "source": [
        "Set storage path\n\n"
      ]
    },
    {
      "cell_type": "code",
      "execution_count": null,
      "metadata": {
        "collapsed": false
      },
      "outputs": [],
      "source": [
        "tmp_dir = TemporaryDirectory()\nstore_path = os.path.join(tmp_dir.name, \"ome.zarr\")\nprint(\"Zarr store path\", store_path)"
      ]
    },
    {
      "cell_type": "markdown",
      "metadata": {},
      "source": [
        "Write 5D data to a new Zarr store\n\n"
      ]
    },
    {
      "cell_type": "code",
      "execution_count": null,
      "metadata": {
        "collapsed": false
      },
      "outputs": [],
      "source": [
        "tczyx = np.random.randint(\n    0, np.iinfo(np.uint16).max, size=(5, 2, 3, 32, 32), dtype=np.uint16\n)\n\nwith open_ome_zarr(\n    store_path, layout=\"fov\", mode=\"a\", channel_names=[\"DAPI\", \"GFP\"]\n) as dataset:\n    dataset[\"img\"] = tczyx"
      ]
    },
    {
      "cell_type": "markdown",
      "metadata": {},
      "source": [
        "Opening in read-only mode prevents writing\n\n"
      ]
    },
    {
      "cell_type": "code",
      "execution_count": null,
      "metadata": {
        "collapsed": false
      },
      "outputs": [],
      "source": [
        "with open_ome_zarr(store_path, layout=\"auto\", mode=\"r\") as dataset:\n    img = dataset[\"img\"]\n    print(img)\n    print(img.numpy())\n    try:\n        img[0, 0, 0, 0, 0] = 0\n    except Exception as e:\n        print(f\"Writing was rejected: {e}\")"
      ]
    },
    {
      "cell_type": "markdown",
      "metadata": {},
      "source": [
        "Append a new timepoint to an existing dataset\n\n"
      ]
    },
    {
      "cell_type": "code",
      "execution_count": null,
      "metadata": {
        "collapsed": false
      },
      "outputs": [],
      "source": [
        "new_1czyx = np.random.randint(\n    0, np.iinfo(np.uint16).max, size=(1, 2, 3, 32, 32), dtype=np.uint16\n)\n\nwith open_ome_zarr(store_path, layout=\"fov\", mode=\"r+\") as dataset:\n    img = dataset[\"img\"]\n    print(img.shape)\n    img.append(new_1czyx, axis=0)\n    print(img.shape)"
      ]
    },
    {
      "cell_type": "markdown",
      "metadata": {},
      "source": [
        "Modify channels\n\n"
      ]
    },
    {
      "cell_type": "code",
      "execution_count": null,
      "metadata": {
        "collapsed": false
      },
      "outputs": [],
      "source": [
        "# Open the dataset used above\ndataset = open_ome_zarr(store_path, mode=\"r+\")\ndataset.print_tree()\n\n# Append a new channel and write a Z-stack\nnew_zyx = np.random.randint(\n    0, np.iinfo(np.uint16).max, size=(3, 32, 32), dtype=np.uint16\n)\ndataset.append_channel(\"New\", resize_arrays=True)\ndataset[\"img\"][0, 2] = new_zyx\nprint(dataset.channel_names)\ndataset.print_tree()\n\n# Rename the new channel\ndataset.rename_channel(\"New\", \"Renamed\")\nprint(dataset.channel_names)\n\n# Write new data to the channel\nnew_tzyx = np.random.randint(\n    0, np.iinfo(np.uint16).max, size=(6, 3, 32, 32), dtype=np.uint16\n)\nc_idx = dataset.get_channel_index(\"Renamed\")\ndataset[\"img\"][:, c_idx] = new_tzyx\n\n# Which is equivalent to:\nif False:  # remove this line\n    dataset.update_channel(\"Renamed\", target=\"img\", data=new_tzyx)\n\n# Close the dataset\ndataset.close()"
      ]
    },
    {
      "cell_type": "markdown",
      "metadata": {},
      "source": [
        "Try viewing the images with napari-ome-zarr\n\n"
      ]
    },
    {
      "cell_type": "markdown",
      "metadata": {},
      "source": [
        "Clean up\n\n"
      ]
    },
    {
      "cell_type": "code",
      "execution_count": null,
      "metadata": {
        "collapsed": false
      },
      "outputs": [],
      "source": [
        "tmp_dir.cleanup()"
      ]
    }
  ],
  "metadata": {
    "kernelspec": {
      "display_name": "Python 3",
      "language": "python",
      "name": "python3"
    },
    "language_info": {
      "codemirror_mode": {
        "name": "ipython",
        "version": 3
      },
      "file_extension": ".py",
      "mimetype": "text/x-python",
      "name": "python",
      "nbconvert_exporter": "python",
      "pygments_lexer": "ipython3",
      "version": "3.12.11"
    }
  },
  "nbformat": 4,
  "nbformat_minor": 0
}
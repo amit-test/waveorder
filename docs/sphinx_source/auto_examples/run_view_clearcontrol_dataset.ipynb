{
  "cells": [
    {
      "cell_type": "markdown",
      "metadata": {},
      "source": [
        "\n# Viewing Clear Control\n\nExample of opening a Clear Control dataset and viewing with napari.\n\nUsage:\n\n    $ python view_clearcontrol_dataset.py <OPTIONAL Clear Control dataset>\n\nIf the dataset path is not provided,\nit creates a mock dataset of random integers.\n"
      ]
    },
    {
      "cell_type": "markdown",
      "metadata": {},
      "source": [
        "Setup\n\n"
      ]
    },
    {
      "cell_type": "code",
      "execution_count": null,
      "metadata": {
        "collapsed": false
      },
      "outputs": [],
      "source": [
        "import sys\nimport tempfile\nimport time\n\nfrom iohub.clearcontrol import (\n    ClearControlFOV,\n    create_mock_clear_control_dataset,\n)"
      ]
    },
    {
      "cell_type": "markdown",
      "metadata": {},
      "source": [
        "Parse optional Clear Control dataset path.\nMock dataset is created if dataset path is not provided.\n\n"
      ]
    },
    {
      "cell_type": "code",
      "execution_count": null,
      "metadata": {
        "collapsed": false
      },
      "outputs": [],
      "source": [
        "if len(sys.argv) < 2:\n    print(\"Loading mock random noise dataset ...\")\n    path = f\"{tempfile.gettempdir()}/dataset.cc\"\n    create_mock_clear_control_dataset(path)\nelse:\n    path = sys.argv[1]"
      ]
    },
    {
      "cell_type": "markdown",
      "metadata": {},
      "source": [
        "Open Clear Control dataset.\n\n"
      ]
    },
    {
      "cell_type": "code",
      "execution_count": null,
      "metadata": {
        "collapsed": false
      },
      "outputs": [],
      "source": [
        "s = time.time()\ncc = ClearControlFOV(path, cache=True)\nprint(\"init time (secs)\", time.time() - s)"
      ]
    },
    {
      "cell_type": "markdown",
      "metadata": {},
      "source": [
        "Time load time of a single volume.\n\n"
      ]
    },
    {
      "cell_type": "code",
      "execution_count": null,
      "metadata": {
        "collapsed": false
      },
      "outputs": [],
      "source": [
        "s = time.time()\ncc[0, 0]\nprint(\"single volume load time (secs)\", time.time() - s)"
      ]
    },
    {
      "cell_type": "markdown",
      "metadata": {},
      "source": [
        "Load dataset using napari\n\n"
      ]
    },
    {
      "cell_type": "code",
      "execution_count": null,
      "metadata": {
        "collapsed": false
      },
      "outputs": [],
      "source": [
        "if __name__ == \"__main__\":\n    try:\n        import napari\n\n        s = time.time()\n        napari.view_image(cc)\n        print(\"napari load time (secs)\", time.time() - s)\n\n        napari.run()\n\n    except ModuleNotFoundError:\n        pass"
      ]
    }
  ],
  "metadata": {
    "kernelspec": {
      "display_name": "Python 3",
      "language": "python",
      "name": "python3"
    },
    "language_info": {
      "codemirror_mode": {
        "name": "ipython",
        "version": 3
      },
      "file_extension": ".py",
      "mimetype": "text/x-python",
      "name": "python",
      "nbconvert_exporter": "python",
      "pygments_lexer": "ipython3",
      "version": "3.12.11"
    }
  },
  "nbformat": 4,
  "nbformat_minor": 0
}
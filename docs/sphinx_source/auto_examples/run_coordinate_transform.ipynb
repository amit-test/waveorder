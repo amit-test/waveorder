{
  "cells": [
    {
      "cell_type": "markdown",
      "metadata": {},
      "source": [
        "\n# Coordinate Transform\n\nThis script writes two positions using the high content screening (HCS)\nOME-Zarr dataset with two FOV in a single well with different\ncoordinate transformations (i.e translation and scaling)\n"
      ]
    },
    {
      "cell_type": "code",
      "execution_count": null,
      "metadata": {
        "collapsed": false
      },
      "outputs": [],
      "source": [
        "import os\nfrom tempfile import TemporaryDirectory\n\nimport numpy as np\n\nfrom iohub.ngff import TransformationMeta, open_ome_zarr"
      ]
    },
    {
      "cell_type": "markdown",
      "metadata": {},
      "source": [
        "Set storage path\n\n"
      ]
    },
    {
      "cell_type": "code",
      "execution_count": null,
      "metadata": {
        "collapsed": false
      },
      "outputs": [],
      "source": [
        "tmp_dir = TemporaryDirectory()\nstore_path = os.path.join(tmp_dir.name, \"transformed.zarr\")\nprint(\"Zarr store path\", store_path)"
      ]
    },
    {
      "cell_type": "markdown",
      "metadata": {},
      "source": [
        "Create two random sample images\n\n"
      ]
    },
    {
      "cell_type": "code",
      "execution_count": null,
      "metadata": {
        "collapsed": false
      },
      "outputs": [],
      "source": [
        "tczyx_1 = np.random.randint(\n    0, np.iinfo(np.uint16).max, size=(1, 3, 3, 32, 32), dtype=np.uint16\n)\ntczyx_2 = np.random.randint(\n    0, np.iinfo(np.uint16).max, size=(1, 3, 3, 32, 32), dtype=np.uint16\n)"
      ]
    },
    {
      "cell_type": "markdown",
      "metadata": {},
      "source": [
        "Coordinate Transformations (T,C,Z,Y,X)\nBy default the translation is the identity matrix\n\n"
      ]
    },
    {
      "cell_type": "code",
      "execution_count": null,
      "metadata": {
        "collapsed": false
      },
      "outputs": [],
      "source": [
        "coords_shift = [[1.0, 1.0, 1.0, 10.0, 10.0], [1.0, 1.0, 0.0, -10.0, -10.0]]\nimg_scaling = [[1.0, 1.0, 1.0, 0.5, 0.5]]"
      ]
    },
    {
      "cell_type": "markdown",
      "metadata": {},
      "source": [
        "Generate Transformation Metadata\n\n"
      ]
    },
    {
      "cell_type": "code",
      "execution_count": null,
      "metadata": {
        "collapsed": false
      },
      "outputs": [],
      "source": [
        "translation = []\nfor shift in coords_shift:\n    translation.append(\n        TransformationMeta(type=\"translation\", translation=shift)\n    )\nscaling = []\nfor scale in img_scaling:\n    scaling.append(TransformationMeta(type=\"scale\", scale=scale))"
      ]
    },
    {
      "cell_type": "markdown",
      "metadata": {},
      "source": [
        "Write 5D data to a new Zarr store\n\n"
      ]
    },
    {
      "cell_type": "code",
      "execution_count": null,
      "metadata": {
        "collapsed": false
      },
      "outputs": [],
      "source": [
        "with open_ome_zarr(\n    store_path,\n    layout=\"hcs\",\n    mode=\"w-\",\n    channel_names=[\"DAPI\", \"GFP\", \"Brightfield\"],\n) as dataset:\n    # Create and write to positions\n    # This affects the tile arrangement in visualization\n    position = dataset.create_position(0, 0, 0)\n    position.create_image(\"0\", tczyx_1, transform=[translation[0]])\n    position = dataset.create_position(0, 0, 1)\n    position.create_image(\"0\", tczyx_2, transform=[translation[1], scaling[0]])\n    # Print dataset summary\n    dataset.print_tree()"
      ]
    },
    {
      "cell_type": "markdown",
      "metadata": {},
      "source": [
        "<div class=\"alert alert-info\"><h4>Note</h4><p>To see the coordinate transforms,\n    open the positions individually using napari-ome-zarr.\n    This will duplicate the layers (channels).</p></div>\n\n"
      ]
    },
    {
      "cell_type": "markdown",
      "metadata": {},
      "source": [
        "Clean up\n\n"
      ]
    },
    {
      "cell_type": "code",
      "execution_count": null,
      "metadata": {
        "collapsed": false
      },
      "outputs": [],
      "source": [
        "tmp_dir.cleanup()"
      ]
    }
  ],
  "metadata": {
    "kernelspec": {
      "display_name": "Python 3",
      "language": "python",
      "name": "python3"
    },
    "language_info": {
      "codemirror_mode": {
        "name": "ipython",
        "version": 3
      },
      "file_extension": ".py",
      "mimetype": "text/x-python",
      "name": "python",
      "nbconvert_exporter": "python",
      "pygments_lexer": "ipython3",
      "version": "3.12.11"
    }
  },
  "nbformat": 4,
  "nbformat_minor": 0
}
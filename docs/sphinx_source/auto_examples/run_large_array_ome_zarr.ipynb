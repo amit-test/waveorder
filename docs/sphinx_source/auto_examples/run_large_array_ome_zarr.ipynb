{
  "cells": [
    {
      "cell_type": "markdown",
      "metadata": {},
      "source": [
        "\n# Writing a Large Array\n\nThis script shows how to store a larger-than-RAM array to a OME-Zarr dataset.\nThe same method works for HCS datasets too.\n"
      ]
    },
    {
      "cell_type": "markdown",
      "metadata": {},
      "source": [
        "<div class=\"alert alert-danger\"><h4>Warning</h4><p>Executing this example will write a large file.\n    Modify the store path manually.</p></div>\n\n"
      ]
    },
    {
      "cell_type": "code",
      "execution_count": null,
      "metadata": {
        "collapsed": false
      },
      "outputs": [],
      "source": [
        "import numpy as np\nfrom tqdm import tqdm\n\nfrom iohub.ngff import open_ome_zarr\n\nstore_path = \"\""
      ]
    },
    {
      "cell_type": "markdown",
      "metadata": {},
      "source": [
        "Shape and data type of the large array\nthis array is about 10 GB, each time point is about 100 MB.\nIt may not be actually larger than RAM but enough for demo.\nMonitor the memory usage of Python when the following runs\nand it should take significantly less than 10 GB.\n\n"
      ]
    },
    {
      "cell_type": "code",
      "execution_count": null,
      "metadata": {
        "collapsed": false
      },
      "outputs": [],
      "source": [
        "shape = (100, 2, 25, 1024, 1024)\ndtype = np.uint16"
      ]
    },
    {
      "cell_type": "markdown",
      "metadata": {},
      "source": [
        "<div class=\"alert alert-info\"><h4>Note</h4><p>This will not run if the Zarr store path is not set above</p></div>\n\nStore this array by looping through the time points\n\n"
      ]
    },
    {
      "cell_type": "code",
      "execution_count": null,
      "metadata": {
        "collapsed": false
      },
      "outputs": [],
      "source": [
        "if store_path:\n    with open_ome_zarr(\n        store_path, layout=\"fov\", mode=\"w-\", channel_names=[\"DAPI\", \"GFP\"]\n    ) as dataset:\n        img = dataset.create_zeros(\n            name=\"0\",\n            shape=shape,\n            dtype=dtype,\n            chunks=(1, 1, 1, 1024, 1024),  # chunk by XY planes\n        )\n        for t in tqdm(range(shape[0])):\n            # write 4D image data for the time point\n            img[t] = np.ones(shape[1:]) * t\n        dataset.print_tree()"
      ]
    }
  ],
  "metadata": {
    "kernelspec": {
      "display_name": "Python 3",
      "language": "python",
      "name": "python3"
    },
    "language_info": {
      "codemirror_mode": {
        "name": "ipython",
        "version": 3
      },
      "file_extension": ".py",
      "mimetype": "text/x-python",
      "name": "python",
      "nbconvert_exporter": "python",
      "pygments_lexer": "ipython3",
      "version": "3.12.11"
    }
  },
  "nbformat": 4,
  "nbformat_minor": 0
}
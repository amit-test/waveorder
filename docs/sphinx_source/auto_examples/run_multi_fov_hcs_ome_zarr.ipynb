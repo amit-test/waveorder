{
  "cells": [
    {
      "cell_type": "markdown",
      "metadata": {},
      "source": [
        "\n# Multi-FOV HCS OME-Zarr\n\nThis script writes a high content screening (HCS) OME-Zarr dataset\nwith a single FOV and a single scaling level per well,\nand adds an extra well-position to an existing dataset.\n"
      ]
    },
    {
      "cell_type": "code",
      "execution_count": null,
      "metadata": {
        "collapsed": false
      },
      "outputs": [],
      "source": [
        "import os\nfrom tempfile import TemporaryDirectory\n\nimport numpy as np\n\nfrom iohub.ngff import open_ome_zarr"
      ]
    },
    {
      "cell_type": "markdown",
      "metadata": {},
      "source": [
        "Set storage path\n\n"
      ]
    },
    {
      "cell_type": "code",
      "execution_count": null,
      "metadata": {
        "collapsed": false
      },
      "outputs": [],
      "source": [
        "tmp_dir = TemporaryDirectory()\nstore_path = os.path.join(tmp_dir.name, \"hcs.zarr\")\nprint(\"Zarr store path\", store_path)"
      ]
    },
    {
      "cell_type": "markdown",
      "metadata": {},
      "source": [
        "Write 5D data to multiple wells.\nInteger path names will be automatically converted to strings.\nWhile the NGFF specification (and iohub) allows for arbitrary names,\nthe ome-zarr-py library and the napari-ome-zarr viewer\ncan only load positions and arrays with name '0' for the whole plate.\n\n"
      ]
    },
    {
      "cell_type": "code",
      "execution_count": null,
      "metadata": {
        "collapsed": false
      },
      "outputs": [],
      "source": [
        "position_list = (\n    (\"A\", \"1\", \"0\"),\n    (\"H\", 1, \"0\"),\n    (\"H\", \"12\", \"CannotVisualize\"),\n    (\"Control\", \"Blank\", 0),\n)\n\nwith open_ome_zarr(\n    store_path,\n    layout=\"hcs\",\n    mode=\"w-\",\n    channel_names=[\"DAPI\", \"GFP\", \"Brightfield\"],\n) as dataset:\n    # Create and write to positions\n    # This affects the tile arrangement in visualization\n    for row, col, fov in position_list:\n        position = dataset.create_position(row, col, fov)\n        position[\"0\"] = np.random.randint(\n            0, np.iinfo(np.uint16).max, size=(5, 3, 2, 32, 32), dtype=np.uint16\n        )\n    # Print dataset summary\n    dataset.print_tree()"
      ]
    },
    {
      "cell_type": "markdown",
      "metadata": {},
      "source": [
        "Append a channel to all the positions\n\n"
      ]
    },
    {
      "cell_type": "code",
      "execution_count": null,
      "metadata": {
        "collapsed": false
      },
      "outputs": [],
      "source": [
        "with open_ome_zarr(store_path, mode=\"r+\") as dataset:\n    for name, position in dataset.positions():\n        print(f\"Appending a channel to position: {name}\")\n        position.append_channel(\"Segmentation\", resize_arrays=True)\n        position[\"0\"][:, 3] = np.random.randint(\n            0, np.iinfo(np.uint16).max, size=(5, 2, 32, 32), dtype=np.uint16\n        )\n    dataset.print_tree()"
      ]
    },
    {
      "cell_type": "markdown",
      "metadata": {},
      "source": [
        "Try viewing the images with napari-ome-zarr\n\n"
      ]
    },
    {
      "cell_type": "markdown",
      "metadata": {},
      "source": [
        "Clean up\n\n"
      ]
    },
    {
      "cell_type": "code",
      "execution_count": null,
      "metadata": {
        "collapsed": false
      },
      "outputs": [],
      "source": [
        "tmp_dir.cleanup()"
      ]
    }
  ],
  "metadata": {
    "kernelspec": {
      "display_name": "Python 3",
      "language": "python",
      "name": "python3"
    },
    "language_info": {
      "codemirror_mode": {
        "name": "ipython",
        "version": 3
      },
      "file_extension": ".py",
      "mimetype": "text/x-python",
      "name": "python",
      "nbconvert_exporter": "python",
      "pygments_lexer": "ipython3",
      "version": "3.12.11"
    }
  },
  "nbformat": 4,
  "nbformat_minor": 0
}